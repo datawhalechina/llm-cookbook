{
 "cells": [
  {
   "cell_type": "markdown",
   "id": "a81456dd",
   "metadata": {},
   "source": [
    "# 第二章 多智能体对话和相声"
   ]
  },
  {
   "cell_type": "markdown",
   "id": "7e521280-a52f-4ff9-b5f5-364789846728",
   "metadata": {},
   "source": [
    "## 一、环境安装"
   ]
  },
  {
   "cell_type": "markdown",
   "id": "4693467e",
   "metadata": {},
   "source": [
    "欢迎来到正式的代码实战环节。接下来我们需要先安装一些必要的环境和基础的配置。"
   ]
  },
  {
   "cell_type": "markdown",
   "id": "f044d2c0-7025-41c0-b137-ba2248788815",
   "metadata": {},
   "source": [
    "首先，使用conda新建一个虚拟的python环境并激活进入"
   ]
  },
  {
   "cell_type": "markdown",
   "id": "822d1fe5-4b57-45fb-ba57-818f090123ac",
   "metadata": {},
   "source": [
    "```bash\n",
    "conda create -n autogen python=3.10\n",
    "conda activate autogen\n",
    "```"
   ]
  },
  {
   "cell_type": "markdown",
   "id": "9bd4b57f-dda0-460b-81e3-ae52454a093b",
   "metadata": {},
   "source": [
    "接下来，安装本课程学习中所必要的依赖"
   ]
  },
  {
   "cell_type": "markdown",
   "id": "8c40f272-3e36-489c-a97e-68ec66ce435d",
   "metadata": {},
   "source": [
    "```bash\n",
    "cd <current-directory>\n",
    "pip install -r requirements.txt\n",
    "```"
   ]
  },
  {
   "cell_type": "markdown",
   "id": "34427c37",
   "metadata": {},
   "source": [
    "最后，记得在`.env`文件中填入有效的`OPENAI_API_KEY`以及可选的`OPENAI_BASE_URL`哦🥰"
   ]
  },
  {
   "cell_type": "markdown",
   "id": "fc52cab9-2b65-4897-85f4-e2fdf2b6c4dc",
   "metadata": {},
   "source": [
    "安装完毕，让我们马上开始基于AutoGen框架的Agent设计范式学习吧~</br>\n",
    "在这一节课中，我们会实现两个智能体合作讲相声的一个有趣例子😊"
   ]
  },
  {
   "cell_type": "markdown",
   "id": "742cf649",
   "metadata": {},
   "source": [
    "## 二、基础配置"
   ]
  },
  {
   "cell_type": "code",
   "execution_count": 18,
   "id": "04d006c1-22fa-40ea-b3e0-d543142e0788",
   "metadata": {
    "height": 64
   },
   "outputs": [],
   "source": [
    "from utils import get_openai_api_key, get_openai_base_url\n",
    "OPENAI_API_KEY = get_openai_api_key() # 获取api_key，此项是必须的\n",
    "OPENAI_BASE_URL = get_openai_base_url() # 获取base_url，此项可选，如果不用则可以直接注释该行\n",
    "llm_config = {\"model\": \"gpt-3.5-turbo\"} # 这里使用的模型名称为gpt-3.5-turbo"
   ]
  },
  {
   "cell_type": "markdown",
   "id": "116a1c4d",
   "metadata": {},
   "source": [
    "## 三、定义一个AutoGen智能体"
   ]
  },
  {
   "cell_type": "code",
   "execution_count": 19,
   "id": "6fb8c441-c58c-41a8-a54b-5c387afceac5",
   "metadata": {
    "height": 132
   },
   "outputs": [],
   "source": [
    "from autogen import ConversableAgent\n",
    "\n",
    "# 初始化一个ConversableAgent\n",
    "agent = ConversableAgent(\n",
    "    name=\"chatbot\",\n",
    "    llm_config=llm_config,\n",
    "    human_input_mode=\"NEVER\", # 这里设置不使用人类反馈介入\n",
    ")"
   ]
  },
  {
   "cell_type": "markdown",
   "id": "efc51ca7-6bfb-4572-a04c-a5a7d012f0bb",
   "metadata": {},
   "source": [
    "在 `AutoGen` 的 `ConversableAgent` 中，人工循环组件位于自动回复组件的前面。</br>\n",
    "它可以拦截传入的消息，并决定是否将它们传递给自动回复组件或提供人工反馈。逻辑架构如图所示："
   ]
  },
  {
   "cell_type": "markdown",
   "id": "77706a1b-8b7b-42ed-888b-ecaca4ebce36",
   "metadata": {},
   "source": [
    "![fig2.1](./images/fig-2-1.png)"
   ]
  },
  {
   "cell_type": "code",
   "execution_count": 20,
   "id": "47886b5f-fc7c-431a-8036-cff6e88f85c6",
   "metadata": {
    "height": 80
   },
   "outputs": [
    {
     "name": "stdout",
     "output_type": "stream",
     "text": [
      "当两个细胞相遇，一半提议：你配我吗？ 另一半回答：我们在一起吧，我们要变得更有型！\n"
     ]
    }
   ],
   "source": [
    "reply = agent.generate_reply(\n",
    "    messages=[{\"content\": \"给我讲一个笑话\", \"role\": \"user\"}]\n",
    ")\n",
    "print(reply)"
   ]
  },
  {
   "cell_type": "code",
   "execution_count": 21,
   "id": "67f626e9-4cec-40c1-abde-2eff1252b848",
   "metadata": {
    "height": 96
   },
   "outputs": [
    {
     "name": "stdout",
     "output_type": "stream",
     "text": [
      "为了保持新鲜感，我会告诉你另外一个笑话：为什么小鸡不生病？因为它有禽力！哈哈哈！希望这个笑话能让您开心一下！\n"
     ]
    }
   ],
   "source": [
    "reply = agent.generate_reply(\n",
    "    messages=[{\"content\": \"重复一下笑话\", \"role\": \"user\"}]\n",
    ")\n",
    "print(reply)"
   ]
  },
  {
   "cell_type": "markdown",
   "id": "6c067449-6202-48c1-a51b-58bbde7b424a",
   "metadata": {},
   "source": [
    "由此可见，我们执行了两次`generate_reply`函数，但是智能体的第二次回复并没有继承上一次的交互记忆，因此没有成功的重复笑话。"
   ]
  },
  {
   "cell_type": "markdown",
   "id": "8c98a301",
   "metadata": {},
   "source": [
    "## 四、对话\n",
    "\n",
    "让Cathy和Joe两个Agent建立对话，它们的对话内容作为记忆可以被保存下来"
   ]
  },
  {
   "cell_type": "markdown",
   "id": "0b72c4dd",
   "metadata": {},
   "source": [
    "![fig2.2](./images/fig-2-2.png)"
   ]
  },
  {
   "cell_type": "markdown",
   "id": "52f74a5b-55b0-479e-8257-d2400edb0e0b",
   "metadata": {},
   "source": [
    "我们通过定义两个可以对话的Agent，赋予它们相声演员的职责设定，就可以驱动它们完成相声的交互了。"
   ]
  },
  {
   "cell_type": "code",
   "execution_count": 22,
   "id": "8f109dcb-824e-40d7-8e86-efee42b75f3c",
   "metadata": {
    "height": 300
   },
   "outputs": [],
   "source": [
    "cathy = ConversableAgent(\n",
    "    name=\"cathy\",\n",
    "    system_message=\n",
    "    \"你的名字是Cathy，你是一位相声演员\",\n",
    "    llm_config=llm_config,\n",
    "    human_input_mode=\"NEVER\",\n",
    ")\n",
    "\n",
    "joe = ConversableAgent(\n",
    "    name=\"joe\",\n",
    "    system_message=\n",
    "    \"你是的名字是Joe，你是一位相声演员\"\n",
    "    \"你需要根据上一个笑话，开始你的下一个笑话\",\n",
    "    llm_config=llm_config,\n",
    "    human_input_mode=\"NEVER\",\n",
    ")"
   ]
  },
  {
   "cell_type": "markdown",
   "id": "43f71a61",
   "metadata": {},
   "source": [
    "**注意**： 您每次执行都可能会得到不同的笑话，因为这和大语言模型的底层逻辑，预测下一个生成token的最大概率有关。"
   ]
  },
  {
   "cell_type": "code",
   "execution_count": 23,
   "id": "46a1c6f6-687e-40de-8819-374201cfed9f",
   "metadata": {
    "height": 97
   },
   "outputs": [
    {
     "name": "stdout",
     "output_type": "stream",
     "text": [
      "\u001b[33mjoe\u001b[0m (to cathy):\n",
      "\n",
      "我是Joe。Cathy,让我们持续不断地讲笑话吧。\n",
      "\n",
      "--------------------------------------------------------------------------------\n",
      "\u001b[33mcathy\u001b[0m (to joe):\n",
      "\n",
      "当然，Joe！让我来给你讲一个相声段子：\n",
      "Cathy: \"你知道为什么买衣服要试穿吗？\"\n",
      "Joe: \"为什么？\"\n",
      "Cathy: \"因为有些衣服，看着很文雅、挺得很直，一穿上去，就变成了土豪金！\" \n",
      "\n",
      "哈哈，怎么样，好笑吗？现在轮到你了，来讲一个笑话吧！\n",
      "\n",
      "--------------------------------------------------------------------------------\n",
      "\u001b[33mjoe\u001b[0m (to cathy):\n",
      "\n",
      "哈哈，好笑好笑！那我来讲一个：\n",
      "\n",
      "Joe: \"你知道为什么粽子不爱光着脚去逛街吗？\"\n",
      "Cathy: \"为什么？\"\n",
      "Joe: \"因为它怕被蚊子咬出个包，然后被人误认为是猪蹄！\" \n",
      "\n",
      "哈哈，怎么样，是不是有点意思？继续一起笑下去吧！\n",
      "\n",
      "--------------------------------------------------------------------------------\n",
      "\u001b[33mcathy\u001b[0m (to joe):\n",
      "\n",
      "哈哈哈，太有创意了，Joe！这个笑话真是太逗了！笑声是最好的药物，让我们继续一起分享快乐吧！如果你还有更多好笑的段子，尽管来，我随时准备好了！\n",
      "\n",
      "--------------------------------------------------------------------------------\n"
     ]
    }
   ],
   "source": [
    "chat_result = joe.initiate_chat(\n",
    "    recipient=cathy, \n",
    "    message=\"我是Joe。Cathy,让我们持续不断地讲笑话吧。\",\n",
    "    max_turns=2,\n",
    ")"
   ]
  },
  {
   "cell_type": "markdown",
   "id": "78edc810",
   "metadata": {},
   "source": [
    "## 五、结果打印\n",
    "\n",
    "你可以在控制台打印出下列信息：\n",
    "\n",
    "1. 对话的历史记录\n",
    "2. 对话的花费\n",
    "3. 对话的总结"
   ]
  },
  {
   "cell_type": "code",
   "execution_count": 24,
   "id": "1169ea24-eadd-4909-8d56-9b7ec5677c66",
   "metadata": {
    "height": 63
   },
   "outputs": [
    {
     "name": "stdout",
     "output_type": "stream",
     "text": [
      "[{'content': '我是Joe。Cathy,让我们持续不断地讲笑话吧。', 'role': 'assistant'},\n",
      " {'content': '当然，Joe！让我来给你讲一个相声段子：\\n'\n",
      "             'Cathy: \"你知道为什么买衣服要试穿吗？\"\\n'\n",
      "             'Joe: \"为什么？\"\\n'\n",
      "             'Cathy: \"因为有些衣服，看着很文雅、挺得很直，一穿上去，就变成了土豪金！\" \\n'\n",
      "             '\\n'\n",
      "             '哈哈，怎么样，好笑吗？现在轮到你了，来讲一个笑话吧！',\n",
      "  'role': 'user'},\n",
      " {'content': '哈哈，好笑好笑！那我来讲一个：\\n'\n",
      "             '\\n'\n",
      "             'Joe: \"你知道为什么粽子不爱光着脚去逛街吗？\"\\n'\n",
      "             'Cathy: \"为什么？\"\\n'\n",
      "             'Joe: \"因为它怕被蚊子咬出个包，然后被人误认为是猪蹄！\" \\n'\n",
      "             '\\n'\n",
      "             '哈哈，怎么样，是不是有点意思？继续一起笑下去吧！',\n",
      "  'role': 'assistant'},\n",
      " {'content': '哈哈哈，太有创意了，Joe！这个笑话真是太逗了！笑声是最好的药物，让我们继续一起分享快乐吧！如果你还有更多好笑的段子，尽管来，我随时准备好了！',\n",
      "  'role': 'user'}]\n"
     ]
    }
   ],
   "source": [
    "import pprint\n",
    "\n",
    "pprint.pprint(chat_result.chat_history) # 对话的历史记录"
   ]
  },
  {
   "cell_type": "code",
   "execution_count": 25,
   "id": "550267b6-3652-40dc-9997-c5401f6d4c47",
   "metadata": {
    "height": 29
   },
   "outputs": [
    {
     "name": "stdout",
     "output_type": "stream",
     "text": [
      "{'usage_excluding_cached_inference': {'gpt-3.5-turbo-0125': {'completion_tokens': 331,\n",
      "                                                             'cost': 0.000776,\n",
      "                                                             'prompt_tokens': 559,\n",
      "                                                             'total_tokens': 890},\n",
      "                                      'total_cost': 0.000776},\n",
      " 'usage_including_cached_inference': {'gpt-3.5-turbo-0125': {'completion_tokens': 331,\n",
      "                                                             'cost': 0.000776,\n",
      "                                                             'prompt_tokens': 559,\n",
      "                                                             'total_tokens': 890},\n",
      "                                      'total_cost': 0.000776}}\n"
     ]
    }
   ],
   "source": [
    "pprint.pprint(chat_result.cost) # 对话的花费"
   ]
  },
  {
   "cell_type": "code",
   "execution_count": 26,
   "id": "dfcf468e-d217-4731-8cb4-3485377230f1",
   "metadata": {
    "height": 29
   },
   "outputs": [
    {
     "name": "stdout",
     "output_type": "stream",
     "text": [
      "'哈哈哈，太有创意了，Joe！这个笑话真是太逗了！笑声是最好的药物，让我们继续一起分享快乐吧！如果你还有更多好笑的段子，尽管来，我随时准备好了！'\n"
     ]
    }
   ],
   "source": [
    "pprint.pprint(chat_result.summary) # 对话的总结"
   ]
  },
  {
   "cell_type": "markdown",
   "id": "06809794-8815-435d-9e2d-9b26c87c8967",
   "metadata": {},
   "source": [
    "这里可以看到对话的总结完全是cathy对joe说的内容，也就是最后一轮对话的结尾。这是因为默认的总结方式就是取最后的一段历史对话记录。"
   ]
  },
  {
   "cell_type": "markdown",
   "id": "ba8c6cf8",
   "metadata": {},
   "source": [
    "## 六、对话内容的一个更好的总结方式"
   ]
  },
  {
   "cell_type": "code",
   "execution_count": 27,
   "id": "c1a8fef1-8030-4652-a2d2-1648834f62c2",
   "metadata": {
    "height": 131
   },
   "outputs": [
    {
     "name": "stdout",
     "output_type": "stream",
     "text": [
      "\u001b[33mjoe\u001b[0m (to cathy):\n",
      "\n",
      "我是Joe。Cathy,让我们持续不断地讲笑话吧。\n",
      "\n",
      "--------------------------------------------------------------------------------\n",
      "\u001b[33mcathy\u001b[0m (to joe):\n",
      "\n",
      "当然，Joe！让我来给你讲一个相声段子：\n",
      "Cathy: \"你知道为什么买衣服要试穿吗？\"\n",
      "Joe: \"为什么？\"\n",
      "Cathy: \"因为有些衣服，看着很文雅、挺得很直，一穿上去，就变成了土豪金！\" \n",
      "\n",
      "哈哈，怎么样，好笑吗？现在轮到你了，来讲一个笑话吧！\n",
      "\n",
      "--------------------------------------------------------------------------------\n",
      "\u001b[33mjoe\u001b[0m (to cathy):\n",
      "\n",
      "哈哈，好笑好笑！那我来讲一个：\n",
      "\n",
      "Joe: \"你知道为什么粽子不爱光着脚去逛街吗？\"\n",
      "Cathy: \"为什么？\"\n",
      "Joe: \"因为它怕被蚊子咬出个包，然后被人误认为是猪蹄！\" \n",
      "\n",
      "哈哈，怎么样，是不是有点意思？继续一起笑下去吧！\n",
      "\n",
      "--------------------------------------------------------------------------------\n",
      "\u001b[33mcathy\u001b[0m (to joe):\n",
      "\n",
      "哈哈哈，太有创意了，Joe！这个笑话真是太逗了！笑声是最好的药物，让我们继续一起分享快乐吧！如果你还有更多好笑的段子，尽管来，我随时准备好了！\n",
      "\n",
      "--------------------------------------------------------------------------------\n"
     ]
    }
   ],
   "source": [
    "chat_result = joe.initiate_chat(\n",
    "    cathy, \n",
    "    message=\"我是Joe。Cathy,让我们持续不断地讲笑话吧。\", \n",
    "    max_turns=2, # 设置最大轮数为2\n",
    "    summary_method=\"reflection_with_llm\", # 设置总结方法为使用大语言模型总结\n",
    "    summary_prompt=\"使用中文总结对话\", # 设置总结的系统提示词\n",
    ")"
   ]
  },
  {
   "cell_type": "code",
   "execution_count": 28,
   "id": "b042de62-bc49-49ee-99f2-4f972e23670b",
   "metadata": {
    "height": 29
   },
   "outputs": [
    {
     "name": "stdout",
     "output_type": "stream",
     "text": [
      "('Joe and Cathy enjoy sharing jokes and humor with each other. They took turns '\n",
      " 'telling funny jokes and had a good time laughing together. They highlighted '\n",
      " 'the importance of humor and laughter in bringing happiness and joy.')\n"
     ]
    }
   ],
   "source": [
    "pprint.pprint(chat_result.summary) # 使用大语言模型总结对话"
   ]
  },
  {
   "cell_type": "markdown",
   "id": "0a1bced3-02d6-4f25-8d16-f2493dde4968",
   "metadata": {},
   "source": [
    "我们在`initiate_chat`函数中新加入了两个参数，`summary_method`和`summary_prompt`，这将改变原先默认的总结方法。现在我们使用大语言模型来帮助我们整理回顾并总结对话的历史信息，这将会得到一个更符合我们理解的一个结果。"
   ]
  },
  {
   "cell_type": "markdown",
   "id": "300525bd",
   "metadata": {},
   "source": [
    "## 七、对话终止\n",
    "\n",
    "对话可以被一个结束条件所终止"
   ]
  },
  {
   "cell_type": "code",
   "execution_count": 30,
   "id": "044dfd61-7f1d-46d8-9e28-4b2601b43d70",
   "metadata": {
    "height": 351
   },
   "outputs": [],
   "source": [
    "cathy = ConversableAgent(\n",
    "    name=\"cathy\",\n",
    "    system_message=\n",
    "    \"你的名字是Cathy，你是一位相声演员\"\n",
    "    \"当你准备结束谈话时，请说“我得走了”。\",\n",
    "    llm_config=llm_config,\n",
    "    human_input_mode=\"NEVER\",\n",
    "    is_termination_msg=lambda msg: \"我得走了\" in msg[\"content\"],\n",
    ")\n",
    "\n",
    "joe = ConversableAgent(\n",
    "    name=\"joe\",\n",
    "    system_message=\n",
    "    \"你的名字是Joe，你是一位相声演员\"\n",
    "    \"当你准备结束谈话时，请说“我得走了”。\",\n",
    "    llm_config=llm_config,\n",
    "    human_input_mode=\"NEVER\",\n",
    "    is_termination_msg=lambda msg: \"我得走了\" in msg[\"content\"] or \"再见\" in msg[\"content\"],\n",
    ")"
   ]
  },
  {
   "cell_type": "code",
   "execution_count": 32,
   "id": "bc49d959-1025-4709-8866-9d4035eaeae7",
   "metadata": {
    "height": 80
   },
   "outputs": [
    {
     "name": "stdout",
     "output_type": "stream",
     "text": [
      "\u001b[33mjoe\u001b[0m (to cathy):\n",
      "\n",
      "我是Joe。让我们持续不断地讲笑话吧，Cathy。\n",
      "\n",
      "--------------------------------------------------------------------------------\n",
      "\u001b[33mcathy\u001b[0m (to joe):\n",
      "\n",
      "当然，Joe！一起分享快乐总是很棒。不过现在我得走了。保持开心，再见！\n",
      "\n",
      "--------------------------------------------------------------------------------\n"
     ]
    }
   ],
   "source": [
    "# 此时，我们没有显示的规定对话的终止轮数，而是通过判断对话中是否出现了关键的预设字段来结束对话。\n",
    "chat_result = joe.initiate_chat(\n",
    "    recipient=cathy,\n",
    "    message=\"我是Joe。让我们持续不断地讲笑话吧，Cathy。\"\n",
    ")"
   ]
  },
  {
   "cell_type": "markdown",
   "id": "757d4a9c-94b6-457e-abde-39730e8dbbd6",
   "metadata": {},
   "source": [
    "这里我们将终止条件设置为了当对话内容表达式中出现 “我得走了” 这一字符串时终止对话。在此之前我们的两位Agent进行了多轮的交互。"
   ]
  },
  {
   "cell_type": "code",
   "execution_count": 33,
   "id": "846eccbd-efd1-464b-9385-279c19b17c1d",
   "metadata": {
    "height": 45
   },
   "outputs": [
    {
     "name": "stdout",
     "output_type": "stream",
     "text": [
      "\u001b[33mcathy\u001b[0m (to joe):\n",
      "\n",
      "我们谈论的最后一个笑话是什么？\n",
      "\n",
      "--------------------------------------------------------------------------------\n",
      "\u001b[33mjoe\u001b[0m (to cathy):\n",
      "\n",
      "抱歉，我无法长时间记住对话内容或重现早前的对话内容。再见，祝你有愉快的一天！\n",
      "\n",
      "--------------------------------------------------------------------------------\n",
      "\u001b[33mcathy\u001b[0m (to joe):\n",
      "\n",
      "没关系，Joe。再见，祝你也有愉快的一天！我得走了。\n",
      "\n",
      "--------------------------------------------------------------------------------\n"
     ]
    }
   ],
   "source": [
    "cathy.send(message=\"我们谈论的最后一个笑话是什么？\", recipient=joe)"
   ]
  },
  {
   "cell_type": "markdown",
   "id": "a9beb8b0-b8ce-4660-8a49-66ce13747144",
   "metadata": {},
   "source": [
    "这里我们可以再次从先前结束的那轮对话开始继续让两个Agent进行交互。可以看到由于有对话记忆，能够正确的输出最后一轮的笑话。此外，在cathy输出 “我得走了” 之后对话再次满足停止条件并终止。"
   ]
  }
 ],
 "metadata": {
  "kernelspec": {
   "display_name": "autogen",
   "language": "python",
   "name": "autogen"
  },
  "language_info": {
   "codemirror_mode": {
    "name": "ipython",
    "version": 3
   },
   "file_extension": ".py",
   "mimetype": "text/x-python",
   "name": "python",
   "nbconvert_exporter": "python",
   "pygments_lexer": "ipython3",
   "version": "3.10.14"
  }
 },
 "nbformat": 4,
 "nbformat_minor": 5
}
