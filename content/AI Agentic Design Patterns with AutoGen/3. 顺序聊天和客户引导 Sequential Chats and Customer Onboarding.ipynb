{
 "cells": [
  {
   "cell_type": "markdown",
   "id": "8140b161",
   "metadata": {},
   "source": [
    "# 第三章 顺序聊天和客户引导"
   ]
  },
  {
   "cell_type": "markdown",
   "id": "69224566",
   "metadata": {},
   "source": [
    "在这节课中，我们将学习如何利用多智能体设计来完成涉及多个步骤的任务。\n",
    "我们将构建一个多智能体之间的对话序列，它们协作为产品提供良好的客户引导体验。\n",
    "我们还将体验到人类如何无缝地参与到人工智能系统的循环中。\n"
   ]
  },
  {
   "cell_type": "markdown",
   "id": "92138180",
   "metadata": {},
   "source": [
    "\n",
    "让我们考虑一个客户引导的场景：\n",
    "- 一个典型的流程是首先收集一些客户信息，然后调查客户的兴趣，然后根据收集到的信息与客户进行交流。\n",
    "- 考虑到这一点，我们可以将这个客户引导任务分解成三个子任务，分别是：信息收集、兴趣调查和客户交流。\n",
    "\n",
    "现在让我们看看如何使用顺序对话完成这一系列任务。"
   ]
  },
  {
   "cell_type": "markdown",
   "id": "e9d4d307",
   "metadata": {},
   "source": [
    "## 一、环境配置"
   ]
  },
  {
   "cell_type": "markdown",
   "id": "d2855d1c",
   "metadata": {},
   "source": [
    "首先，我们需要安装所需的工具库：\n",
    "```bash\n",
    "pip install openai autogen\n",
    "```"
   ]
  },
  {
   "cell_type": "markdown",
   "id": "c722c476",
   "metadata": {},
   "source": [
    "接下来，我们需要定义 OpenAI 的 API Key 和模型配置信息："
   ]
  },
  {
   "cell_type": "code",
   "execution_count": 1,
   "id": "24b75995-4ee4-4ff0-9c44-3943caae37e7",
   "metadata": {
    "height": 29
   },
   "outputs": [],
   "source": [
    "from utils import get_openai_api_key, get_openai_base_url\n",
    "OPENAI_API_KEY = get_openai_api_key()\n",
    "OPENAI_BASE_URL = get_openai_base_url()\n",
    "llm_config = {\"model\": \"gpt-4o\"}"
   ]
  },
  {
   "cell_type": "markdown",
   "id": "63ae7ff1",
   "metadata": {},
   "source": [
    "- 在这里，我们将使用 AutoGen 中的 ConversableAgent 类来实现这些智能体。"
   ]
  },
  {
   "cell_type": "code",
   "execution_count": 2,
   "id": "20ce6700-8a33-424f-aefe-8852fd1e6d07",
   "metadata": {
    "height": 29
   },
   "outputs": [],
   "source": [
    "# 从 AutoGen 导入 ConversableAgent\n",
    "from autogen import ConversableAgent"
   ]
  },
  {
   "cell_type": "markdown",
   "id": "76f979f9",
   "metadata": {},
   "source": [
    "## 二、创建智能体"
   ]
  },
  {
   "cell_type": "markdown",
   "id": "f43362fa",
   "metadata": {},
   "source": [
    "- 第一步是创建一个询问个人信息的引导智能体，通过将消息设置为CustomerOnboardingAgent，并给出详细的指导来实现。\n",
    "- 在这里，我们将 HumanInputMode 设置为 Never，因为我们使用一个大模型来生成这个智能体的响应。"
   ]
  },
  {
   "cell_type": "code",
   "execution_count": 3,
   "id": "a527bb1e-dd4e-47b0-a1b7-a9cbcd87cbdb",
   "metadata": {
    "height": 215
   },
   "outputs": [],
   "source": [
    "onboarding_personal_information_agent = ConversableAgent(\n",
    "    name=\"Onboarding Personal Information Agent\",\n",
    "    system_message='''You are a helpful customer onboarding agent,\n",
    "    you are here to help new customers get started with our product.\n",
    "    Your job is to gather customer's name and location.\n",
    "    Do not ask for other information. Return 'TERMINATE' \n",
    "    when you have gathered all the information.''',\n",
    "    llm_config=llm_config,\n",
    "    code_execution_config=False,\n",
    "    human_input_mode=\"NEVER\",\n",
    ")"
   ]
  },
  {
   "cell_type": "code",
   "execution_count": null,
   "id": "a2933f48",
   "metadata": {},
   "outputs": [],
   "source": [
    "onboarding_personal_information_agent_zh = ConversableAgent(\n",
    "    name=\"引导个人信息智能体\",\n",
    "    system_message='''您是一位乐于助人的客户引导智能体，\n",
    "    您在这里是为了帮助新客户开始使用我们的产品。\n",
    "    您的工作是收集客户的姓名和地址。\n",
    "    不要询问其他信息。当您收集完所有信息后，返回'终止' 。''',\n",
    "    llm_config=llm_config,\n",
    "    code_execution_config=False,\n",
    "    human_input_mode=\"NEVER\",\n",
    ")"
   ]
  },
  {
   "cell_type": "markdown",
   "id": "b7f408dc",
   "metadata": {},
   "source": [
    "- 同样地，让我们创建另一个询问主题偏好的引导智能体。\n",
    "- 我们可以通过设置系统消息来实现我们想要的目标。\n",
    "- 在这里，系统消息设置为询问客户对话题的兴趣或偏好。\n",
    "- 我们将 HumanInputMode 设置为 Never，并且使用一个大模型来支持这个 ConversableAgent。"
   ]
  },
  {
   "cell_type": "code",
   "execution_count": 4,
   "id": "51bc9a24-a680-444d-943b-b740bce0189d",
   "metadata": {
    "height": 215
   },
   "outputs": [],
   "source": [
    "onboarding_topic_preference_agent = ConversableAgent(\n",
    "    name=\"Onboarding Topic preference Agent\",\n",
    "    system_message='''You are a helpful customer onboarding agent,\n",
    "    you are here to help new customers get started with our product.\n",
    "    Your job is to gather customer's preferences on news topics.\n",
    "    Do not ask for other information.\n",
    "    Return 'TERMINATE' when you have gathered all the information.''',\n",
    "    llm_config=llm_config,\n",
    "    code_execution_config=False,\n",
    "    human_input_mode=\"NEVER\",\n",
    ")"
   ]
  },
  {
   "cell_type": "code",
   "execution_count": null,
   "id": "c4bea8a7",
   "metadata": {},
   "outputs": [],
   "source": [
    "onboarding_topic_preference_agent_zh = ConversableAgent(\n",
    "    name=\"引导主题偏好智能体\",\n",
    "    system_message='''您是一位乐于助人的客户引导智能体，\n",
    "    您在这里是为了帮助新客户开始使用我们的产品。\n",
    "    您的工作是收集客户对新闻主题的偏好。\n",
    "    不要询问其他信息。\n",
    "    当您收集完所有信息后，返回'终止'。''',\n",
    "    llm_config=llm_config,\n",
    "    code_execution_config=False,\n",
    "    human_input_mode=\"NEVER\",\n",
    ")"
   ]
  },
  {
   "cell_type": "markdown",
   "id": "12f794a9",
   "metadata": {},
   "source": [
    "- 我们想要创建的另一个智能体是 Customer Engagement Agent，它根据用户的个人信息和主题偏好提供有趣的事实、笑话或者有趣的故事。\n",
    "- 同样，我们通过设置适当的系统消息来详细说明这个智能体参与的行为。"
   ]
  },
  {
   "cell_type": "code",
   "execution_count": 5,
   "id": "6755a7fc-cb17-4d62-a03f-48e260f39010",
   "metadata": {
    "height": 249
   },
   "outputs": [],
   "source": [
    "customer_engagement_agent = ConversableAgent(\n",
    "    name=\"Customer Engagement Agent\",\n",
    "    system_message='''You are a helpful customer service agent\n",
    "    here to provide fun for the customer based on the user's\n",
    "    personal information and topic preferences.\n",
    "    This could include fun facts, jokes, or interesting stories.\n",
    "    Make sure to make it engaging and fun!\n",
    "    Return 'TERMINATE' when you are done.''',\n",
    "    llm_config=llm_config,\n",
    "    code_execution_config=False,\n",
    "    human_input_mode=\"NEVER\",\n",
    "    is_termination_msg=lambda msg: \"terminate\" in msg.get(\"content\").lower(),\n",
    ")"
   ]
  },
  {
   "cell_type": "code",
   "execution_count": null,
   "id": "dda1947c",
   "metadata": {},
   "outputs": [],
   "source": [
    "customer_engagement_agent_zh = ConversableAgent(\n",
    "    name=\"客户参与智能体\",\n",
    "    system_message='''您在这里是一位乐于助人的客户服务智能体，根据用户的个人信息和主题偏好为客户提供乐趣。\n",
    "    这可能包括有趣的事实、笑话或有趣的故事。\n",
    "    确保让它引人入胜且有趣！\n",
    "    完成后返回'终止'。''',\n",
    "    llm_config=llm_config,\n",
    "    code_execution_config=False,\n",
    "    human_input_mode=\"NEVER\",\n",
    "    is_termination_msg=lambda msg: \"terminate\" in msg.get(\"content\").lower(),\n",
    ")"
   ]
  },
  {
   "cell_type": "markdown",
   "id": "fdcaab21",
   "metadata": {},
   "source": [
    "- 接下来，我们应该定义一个 CustomerProxyAgent 作为真实客户的智能体。\n",
    "- 请注意，我们将 HumanInputMode 设置为 Always，以便这个智能体能够始终从真实客户那里获取人工输入。"
   ]
  },
  {
   "cell_type": "code",
   "execution_count": 6,
   "id": "64267c0b-f7f2-46e6-ab44-6f7b5fbd9db7",
   "metadata": {
    "height": 147
   },
   "outputs": [],
   "source": [
    "customer_proxy_agent = ConversableAgent(\n",
    "    name=\"customer_proxy_agent\",\n",
    "    llm_config=False,\n",
    "    code_execution_config=False,\n",
    "    human_input_mode=\"ALWAYS\",\n",
    "    is_termination_msg=lambda msg: \"terminate\" in msg.get(\"content\").lower(),\n",
    ")"
   ]
  },
  {
   "cell_type": "markdown",
   "id": "13a37f73",
   "metadata": {},
   "source": [
    "我们构建完这些智能体之后，现在可以制定一个顺序聊天来完成引导流程。"
   ]
  },
  {
   "cell_type": "markdown",
   "id": "4f240408",
   "metadata": {},
   "source": [
    "## 三、创建任务\n",
    "\n",
    "现在，您可以制定一系列任务来促进引导流程。"
   ]
  },
  {
   "cell_type": "markdown",
   "id": "1245952d",
   "metadata": {},
   "source": [
    "在这个特定的例子中，每次对话实际上是两个智能体之间的对话，一个是特定的引导智能体，另一个是 CustomerProxyAgent。在每次聊天中，发送方智能体向接收方发送初始消息以开始对话，然后他们将进行来回交谈，直到达到最大轮次或收到终止消息。\n",
    "\n",
    "- 在第一次聊天中，我们将 maxTrends 设置为 2，以便他们最多进行两轮对话。\n",
    "- 此外，在顺序聊天场景中，任务通常彼此依赖，因此，我们希望总结上一个聊天中的信息，以便在下一个聊天中使用。在这种情况下，我们使用 Summary 方法。\n",
    "- 在这个例子中，我们使用 `reflection_with_llm` 方法来从第一个聊天中总结客户的个人信息，并将其传递到第二个聊天。\n",
    "- 我们进一步添加了 SummaryPrompt 作为一种指导大模型进行总结的方法。\n",
    "- 所以基本上在这里，我们指导它将客户信息返回为具有此格式的 JSON 对象，包括姓名和地址字段。"
   ]
  },
  {
   "cell_type": "markdown",
   "id": "2a99f855",
   "metadata": {},
   "source": [
    "\n",
    "- 在第二次聊天中，我们正在做类似的事情，这里，发送方是引导主题偏好智能体，接收方是客户智能体。\n",
    "- 开始消息是：太好了，您能告诉我你对哪些主题感兴趣吗？\n",
    "- 我们使用 `reflection_with_llm` 作为总结方法。\n",
    "- 而这次，我们不提供任何自动以总结提示，因此我们将使用内置的默认提示。\n",
    "- 在这种情况下，最大轮数设置为1，因为我们只想使用一轮对话来寻找客户感兴趣的主题。\n",
    "- 在你的具体情况下，你可以将其修改为多个轮次，以便获取更多信息。"
   ]
  },
  {
   "cell_type": "markdown",
   "id": "5344072e",
   "metadata": {},
   "source": [
    "- 在第三次聊天中，我们有客户智能体和客户参与智能体之间的聊天。这次是客户智能体开始对话：让我们找点读的东西。\n",
    "- 在制定了这个聊天对话之后，我们准备通过执行初始聊天来开始整个引导流程。"
   ]
  },
  {
   "cell_type": "code",
   "execution_count": 7,
   "id": "2b15af1d-7042-4569-a936-7966be203f05",
   "metadata": {
    "height": 606
   },
   "outputs": [],
   "source": [
    "chats = [\n",
    "    {\n",
    "        \"sender\": onboarding_personal_information_agent,\n",
    "        \"recipient\": customer_proxy_agent,\n",
    "        \"message\": \n",
    "            \"Hello, I'm here to help you get started with our product.\"\n",
    "            \"Could you tell me your name and location?\",\n",
    "        \"summary_method\": \"reflection_with_llm\",\n",
    "        \"summary_args\": {\n",
    "            \"summary_prompt\" : \"Return the customer information \"\n",
    "                             \"into as JSON object only: \"\n",
    "                             \"{'name': '', 'location': ''}\",\n",
    "        },\n",
    "        \"max_turns\": 2,\n",
    "        \"clear_history\" : True\n",
    "    },\n",
    "    {\n",
    "        \"sender\": onboarding_topic_preference_agent,\n",
    "        \"recipient\": customer_proxy_agent,\n",
    "        \"message\": \n",
    "                \"Great! Could you tell me what topics you are \"\n",
    "                \"interested in reading about?\",\n",
    "        \"summary_method\": \"reflection_with_llm\",\n",
    "        \"max_turns\": 1,\n",
    "        \"clear_history\" : False\n",
    "    },\n",
    "    {\n",
    "        \"sender\": customer_proxy_agent,\n",
    "        \"recipient\": customer_engagement_agent,\n",
    "        \"message\": \"Let's find something fun to read.\",\n",
    "        \"max_turns\": 1,\n",
    "        \"summary_method\": \"reflection_with_llm\",\n",
    "    },\n",
    "]"
   ]
  },
  {
   "cell_type": "code",
   "execution_count": null,
   "id": "fff93017",
   "metadata": {},
   "outputs": [],
   "source": [
    "chats_zh = [\n",
    "    {\n",
    "        \"sender\": onboarding_personal_information_agent,\n",
    "        \"recipient\": customer_proxy_agent,\n",
    "        \"message\": \n",
    "            \"您好，我是来帮助您开始使用我们的产品的。\"\n",
    "            \"你能告诉我你的名字和地址吗？\",\n",
    "        \"summary_method\": \"reflection_with_llm\",\n",
    "        \"summary_args\": {\n",
    "            \"summary_prompt\" : \"仅将客户信息作为 JSON 对象返回：\"\n",
    "                             \"{'name': '', 'location': ''}\",\n",
    "        },\n",
    "        \"max_turns\": 2,\n",
    "        \"clear_history\" : True\n",
    "    },\n",
    "    {\n",
    "        \"sender\": onboarding_topic_preference_agent,\n",
    "        \"recipient\": customer_proxy_agent,\n",
    "        \"message\": \n",
    "                \"太好了！您能告诉我您有兴趣阅读哪些主题吗？\",\n",
    "        \"summary_method\": \"reflection_with_llm\",\n",
    "        \"max_turns\": 1,\n",
    "        \"clear_history\" : False\n",
    "    },\n",
    "    {\n",
    "        \"sender\": customer_proxy_agent,\n",
    "        \"recipient\": customer_engagement_agent,\n",
    "        \"message\": \"让我们找点有趣的东西来读吧。\",\n",
    "        \"max_turns\": 1,\n",
    "        \"summary_method\": \"reflection_with_llm\",\n",
    "    },\n",
    "]"
   ]
  },
  {
   "cell_type": "markdown",
   "id": "862a066b",
   "metadata": {},
   "source": [
    "## 四、开始引导流程"
   ]
  },
  {
   "cell_type": "markdown",
   "id": "e0fa8f99",
   "metadata": {},
   "source": [
    "**注意**：您得到的响应可能与视频中显示的略有不同。请随意尝试不同的输入，例如姓名、地址和偏好。"
   ]
  },
  {
   "cell_type": "markdown",
   "id": "0be4b5b1",
   "metadata": {},
   "source": [
    "- 在这个例子中，你将扮演客户的角色。当你被要求回答时，你应该输入你的回答并按回车键。\n",
    "\n",
    "让我们开始聊天吧！"
   ]
  },
  {
   "cell_type": "code",
   "execution_count": 8,
   "id": "9d6d1d4a-0b50-41a5-a1f0-3ff208398bc6",
   "metadata": {
    "height": 64
   },
   "outputs": [
    {
     "name": "stdout",
     "output_type": "stream",
     "text": [
      "\u001b[34m\n",
      "********************************************************************************\u001b[0m\n",
      "\u001b[34mStarting a new chat....\u001b[0m\n",
      "\u001b[34m\n",
      "********************************************************************************\u001b[0m\n",
      "\u001b[33mOnboarding Personal Information Agent\u001b[0m (to customer_proxy_agent):\n",
      "\n",
      "Hello, I'm here to help you get started with our product.Could you tell me your name and location?\n",
      "\n",
      "--------------------------------------------------------------------------------\n"
     ]
    },
    {
     "name": "stderr",
     "output_type": "stream",
     "text": [
      "/usr/local/lib/python3.11/site-packages/autogen/agentchat/chat.py:47: UserWarning: Repetitive recipients detected: The chat history will be cleared by default if a recipient appears more than once. To retain the chat history, please set 'clear_history=False' in the configuration of the repeating agent.\n",
      "  warnings.warn(\n"
     ]
    },
    {
     "name": "stdout",
     "output_type": "stream",
     "text": [
      "Provide feedback to Onboarding Personal Information Agent. Press enter to skip and use auto-reply, or type 'exit' to end the conversation: \n",
      "\u001b[31m\n",
      ">>>>>>>> NO HUMAN INPUT RECEIVED.\u001b[0m\n",
      "\u001b[31m\n",
      ">>>>>>>> USING AUTO REPLY...\u001b[0m\n",
      "\u001b[33mcustomer_proxy_agent\u001b[0m (to Onboarding Personal Information Agent):\n",
      "\n",
      "\n",
      "\n",
      "--------------------------------------------------------------------------------\n",
      "\u001b[33mOnboarding Personal Information Agent\u001b[0m (to customer_proxy_agent):\n",
      "\n",
      "Hello, could you please provide me with your name and location to proceed?\n",
      "\n",
      "--------------------------------------------------------------------------------\n",
      "Provide feedback to Onboarding Personal Information Agent. Press enter to skip and use auto-reply, or type 'exit' to end the conversation: \n",
      "\u001b[31m\n",
      ">>>>>>>> NO HUMAN INPUT RECEIVED.\u001b[0m\n",
      "\u001b[31m\n",
      ">>>>>>>> USING AUTO REPLY...\u001b[0m\n",
      "\u001b[33mcustomer_proxy_agent\u001b[0m (to Onboarding Personal Information Agent):\n",
      "\n",
      "\n",
      "\n",
      "--------------------------------------------------------------------------------\n",
      "\u001b[34m\n",
      "********************************************************************************\u001b[0m\n",
      "\u001b[34mStarting a new chat....\u001b[0m\n",
      "\u001b[34m\n",
      "********************************************************************************\u001b[0m\n",
      "\u001b[33mOnboarding Topic preference Agent\u001b[0m (to customer_proxy_agent):\n",
      "\n",
      "Great! Could you tell me what topics you are interested in reading about?\n",
      "Context: \n",
      "{'name': 'John Doe', 'location': 'New York'}\n",
      "\n",
      "--------------------------------------------------------------------------------\n",
      "Provide feedback to Onboarding Topic preference Agent. Press enter to skip and use auto-reply, or type 'exit' to end the conversation: \n",
      "\u001b[31m\n",
      ">>>>>>>> NO HUMAN INPUT RECEIVED.\u001b[0m\n",
      "\u001b[31m\n",
      ">>>>>>>> USING AUTO REPLY...\u001b[0m\n",
      "\u001b[33mcustomer_proxy_agent\u001b[0m (to Onboarding Topic preference Agent):\n",
      "\n",
      "\n",
      "\n",
      "--------------------------------------------------------------------------------\n",
      "\u001b[34m\n",
      "********************************************************************************\u001b[0m\n",
      "\u001b[34mStarting a new chat....\u001b[0m\n",
      "\u001b[34m\n",
      "********************************************************************************\u001b[0m\n",
      "\u001b[33mcustomer_proxy_agent\u001b[0m (to Customer Engagement Agent):\n",
      "\n",
      "Let's find something fun to read.\n",
      "Context: \n",
      "{'name': 'John Doe', 'location': 'New York'}\n",
      "John Doe from New York is interested in knowing what topics the person is interested in reading about.\n",
      "\n",
      "--------------------------------------------------------------------------------\n",
      "\u001b[33mCustomer Engagement Agent\u001b[0m (to customer_proxy_agent):\n",
      "\n",
      "Hey John Doe from New York! Since you're interested in finding something fun to read, how about I share an interesting fact with you?\n",
      "Did you know that New York City has its own official wildlife that includes peregrine falcons, raccoons, and white-tailed deer? It's pretty cool to think about all the diverse creatures living among the skyscrapers!\n",
      "If you'd like more fun facts or have any specific topics in mind, just let me know!\n",
      "\n",
      "--------------------------------------------------------------------------------\n"
     ]
    }
   ],
   "source": [
    "from autogen import initiate_chats\n",
    "\n",
    "chat_results = initiate_chats(chats)"
   ]
  },
  {
   "cell_type": "markdown",
   "id": "7eefc6b9",
   "metadata": {},
   "source": [
    "在这里，你可以看到我们正在开始第一次聊天，这是在引导个人信息智能体和客户智能体之间进行的。其中，引导智能体正在询问客户的姓名和地址。\n",
    "- 假设我将使用一个假名：Alice。\n",
    "- 接下来，它正在询问我的位置，假设我的位置是：New York。\n",
    "\n",
    "这里你可以看到，我们正在开始一个新的对话，这是主题智能体与客户智能体之间的第二轮对话。\n",
    "- 这里让我告诉它感兴趣的阅读主题，假设我想读的主题是关于狗的：Dog。\n",
    "- 现在你可以看到，我们正在进入第三轮对话，而这个对话是客户智能体和客户互动智能体之间的。\n",
    "- 基本上，你可以看到他正在使用我们的姓名和地址，以及感兴趣的主题，来在流程中进行一些互动。"
   ]
  },
  {
   "cell_type": "markdown",
   "id": "46803e45",
   "metadata": {},
   "source": [
    "## 五、打印聊天结果"
   ]
  },
  {
   "cell_type": "markdown",
   "id": "4f9e2713",
   "metadata": {},
   "source": [
    "### 5.1 打印总结"
   ]
  },
  {
   "cell_type": "markdown",
   "id": "e3648bcc",
   "metadata": {},
   "source": [
    "- 当对话结束时，你可以随时在顺序聊天中检查每个对话的结果。\n",
    "- 这里你可以看到，首先有一个良好的客户个人信息JSON格式，一个客户兴趣的总结，还有一个与客户的互动消息。"
   ]
  },
  {
   "cell_type": "code",
   "execution_count": 9,
   "id": "1e122f8a-1ceb-4635-9672-662114b0552a",
   "metadata": {
    "height": 64
   },
   "outputs": [
    {
     "name": "stdout",
     "output_type": "stream",
     "text": [
      "{'name': 'John Doe', 'location': 'New York'}\n",
      "\n",
      "\n",
      "John Doe from New York is interested in knowing what topics the person is interested in reading about.\n",
      "\n",
      "\n",
      "John Doe from New York is interested in finding something fun to read and is open to learning interesting facts or new topics.\n",
      "\n",
      "\n"
     ]
    }
   ],
   "source": [
    "for chat_result in chat_results:\n",
    "    print(chat_result.summary)\n",
    "    print(\"\\n\")"
   ]
  },
  {
   "cell_type": "markdown",
   "id": "a674c4eb",
   "metadata": {},
   "source": [
    "### 5.2 打印费用"
   ]
  },
  {
   "cell_type": "markdown",
   "id": "ee0a7d3c",
   "metadata": {},
   "source": [
    "- 类似地，你还可以检查每个对话的相关成本。\n",
    "- 从这个结果中，你可以看到详细的成本信息。"
   ]
  },
  {
   "cell_type": "code",
   "execution_count": 10,
   "id": "8b82a10a-afe5-4ba3-97b4-41c8c14b739f",
   "metadata": {
    "height": 64
   },
   "outputs": [
    {
     "name": "stdout",
     "output_type": "stream",
     "text": [
      "{'usage_including_cached_inference': {'total_cost': 0.000132, 'gpt-3.5-turbo-0125': {'cost': 0.000132, 'prompt_tokens': 177, 'completion_tokens': 29, 'total_tokens': 206}}, 'usage_excluding_cached_inference': {'total_cost': 0.000132, 'gpt-3.5-turbo-0125': {'cost': 0.000132, 'prompt_tokens': 177, 'completion_tokens': 29, 'total_tokens': 206}}}\n",
      "\n",
      "\n",
      "{'usage_including_cached_inference': {'total_cost': 5.9999999999999995e-05, 'gpt-3.5-turbo-0125': {'cost': 5.9999999999999995e-05, 'prompt_tokens': 63, 'completion_tokens': 19, 'total_tokens': 82}}, 'usage_excluding_cached_inference': {'total_cost': 5.9999999999999995e-05, 'gpt-3.5-turbo-0125': {'cost': 5.9999999999999995e-05, 'prompt_tokens': 63, 'completion_tokens': 19, 'total_tokens': 82}}}\n",
      "\n",
      "\n",
      "{'usage_including_cached_inference': {'total_cost': 0.00032700000000000003, 'gpt-3.5-turbo-0125': {'cost': 0.00032700000000000003, 'prompt_tokens': 291, 'completion_tokens': 121, 'total_tokens': 412}}, 'usage_excluding_cached_inference': {'total_cost': 0.00032700000000000003, 'gpt-3.5-turbo-0125': {'cost': 0.00032700000000000003, 'prompt_tokens': 291, 'completion_tokens': 121, 'total_tokens': 412}}}\n",
      "\n",
      "\n"
     ]
    }
   ],
   "source": [
    "for chat_result in chat_results:\n",
    "    print(chat_result.cost)\n",
    "    print(\"\\n\")"
   ]
  },
  {
   "cell_type": "markdown",
   "id": "34f0aa80",
   "metadata": {},
   "source": [
    "## 六、小结"
   ]
  },
  {
   "cell_type": "markdown",
   "id": "171d3d61",
   "metadata": {},
   "source": [
    "- 在这节课中，我们学习了如何使用序列对话来完成一系列依赖任务。\n",
    "- 在下一节课中，你将学习如何使用嵌套对话来实现反思主体设计模式，其中一个对话或一系列对话被嵌套在另一个对话中，就像智能体的独白一样。"
   ]
  }
 ],
 "metadata": {
  "kernelspec": {
   "display_name": "Python 3 (ipykernel)",
   "language": "python",
   "name": "python3"
  },
  "language_info": {
   "codemirror_mode": {
    "name": "ipython",
    "version": 3
   },
   "file_extension": ".py",
   "mimetype": "text/x-python",
   "name": "python",
   "nbconvert_exporter": "python",
   "pygments_lexer": "ipython3",
   "version": "3.11.9"
  }
 },
 "nbformat": 4,
 "nbformat_minor": 5
}
