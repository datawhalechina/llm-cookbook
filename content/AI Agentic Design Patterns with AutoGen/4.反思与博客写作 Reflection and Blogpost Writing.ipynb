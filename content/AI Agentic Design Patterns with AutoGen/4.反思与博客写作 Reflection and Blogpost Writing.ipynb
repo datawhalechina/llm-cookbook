{
 "cells": [
  {
   "cell_type": "markdown",
   "metadata": {},
   "source": [
    "# 第四章 反思与博客写作"
   ]
  },
  {
   "cell_type": "markdown",
   "metadata": {},
   "source": [
    "在这节课中，我们将了解智能体的反思框架，并利用它的力量创建高质量的博客文章，您将学习如何使用嵌套聊天对话模式去实现复杂的反思过程"
   ]
  },
  {
   "cell_type": "markdown",
   "metadata": {},
   "source": [
    "我们的任务是去完成一个博客写作任务，具体来说，我们要创建一个系统，包含了一个评论智能体和一个写作智能体，评论智能体通过一些内嵌的审稿智能体来反思由写作代理撰写的博客文章。"
   ]
  },
  {
   "cell_type": "markdown",
   "metadata": {},
   "source": [
    "# 一、环境配置"
   ]
  },
  {
   "cell_type": "markdown",
   "metadata": {},
   "source": [
    "`autogen` 库我们装好了，启动环境后，我们需要定义 OpenAI 的 API Key 和模型配置信息：\n",
    "  \n",
    "（根据测试，`gpt-4o` 模型的效果会更好，且gpt-3.5-turbo的生成结果有一定随机性，在中英文环境下都有概率出错）"
   ]
  },
  {
   "cell_type": "code",
   "execution_count": 71,
   "metadata": {},
   "outputs": [],
   "source": [
    "from utils import get_openai_api_key, get_openai_base_url\n",
    "OPENAI_API_KEY = get_openai_api_key()\n",
    "OPENAI_BASE_URL = get_openai_base_url()\n",
    "llm_config = {\"model\": \"gpt-3.5-turbo\"}\n",
    "# llm_config = {\"model\": \"gpt-4o\"} # 可以取消注释使用gpt-4o模型"
   ]
  },
  {
   "cell_type": "markdown",
   "metadata": {},
   "source": [
    "# 二、任务定义"
   ]
  },
  {
   "cell_type": "markdown",
   "metadata": {},
   "source": [
    "首先来定义我们的任务"
   ]
  },
  {
   "cell_type": "code",
   "execution_count": 41,
   "metadata": {},
   "outputs": [],
   "source": [
    "task_zh = '''\n",
    "        写一篇关于DeepLearning.AI的简洁但引人入胜的博客文章。\n",
    "        确保博客文章是\n",
    "        100词以内。\n",
    "        '''"
   ]
  },
  {
   "cell_type": "markdown",
   "metadata": {},
   "source": [
    "# 三、写作智能体创建"
   ]
  },
  {
   "cell_type": "markdown",
   "metadata": {},
   "source": [
    "要完成这个任务，我们会自然想到需要建立一个写作智能体"
   ]
  },
  {
   "cell_type": "code",
   "execution_count": 42,
   "metadata": {},
   "outputs": [
    {
     "name": "stdout",
     "output_type": "stream",
     "text": [
      "[autogen.oai.client: 06-15 13:54:40] {129} WARNING - The API key specified is not a valid OpenAI format; it won't work with the OpenAI-hosted model.\n"
     ]
    }
   ],
   "source": [
    "import autogen\n",
    "\n",
    "writer_zh = autogen.AssistantAgent(\n",
    "    name=\"作家\",\n",
    "    system_message=\"你是一位作家. 你会关于给定的话题，写出简洁并且引人入胜的 \" \n",
    "        \"博客文章。 你必须根据你获得反馈润色你写出的文字，然后给出一个修改后的 \"\n",
    "        \"版本。只返回你的最终作品，不需要任何额外的文字。\",\n",
    "    llm_config=llm_config,\n",
    ")"
   ]
  },
  {
   "cell_type": "markdown",
   "metadata": {},
   "source": [
    "我们当然可以直接让写作智能体输出文章，但是这样可能效果不是最好的"
   ]
  },
  {
   "cell_type": "code",
   "execution_count": 43,
   "metadata": {},
   "outputs": [
    {
     "name": "stdout",
     "output_type": "stream",
     "text": [
      "标题：探寻DeepLearning.AI的奥秘\n",
      "\n",
      "在当今数码时代，人工智能是引领创新的主要驱动力之一。而DeepLearning.AI作为人工智能领域的重要一环，在深度学习技术中扮演着关键角色。从神经网络到自然语言处理，DeepLearning.AI让机器具备了人类般的智慧，为各行各业带来了巨大变革。通过专业的在线课程和实践项目，DeepLearning.AI为学习者提供了接触和掌握人工智能技术的独特机会。探索DeepLearning.AI，探寻人工智能的奥秘，引领未来的科技发展。\n"
     ]
    }
   ],
   "source": [
    "reply_zh = writer_zh.generate_reply(messages=[{\"content\": task_zh, \"role\": \"user\"}])\n",
    "print(reply_zh)"
   ]
  },
  {
   "cell_type": "markdown",
   "metadata": {},
   "source": [
    "其实效果还不错，但是我们可以进一步优化它，一个思路就是用反思技巧，反思技巧是著名且有效的智能设计范式之一。"
   ]
  },
  {
   "cell_type": "markdown",
   "metadata": {},
   "source": [
    "# 四、增加反思部分"
   ]
  },
  {
   "cell_type": "markdown",
   "metadata": {},
   "source": [
    "加下来创建一个评论智能体来反思写作智能体的作品，我们通过自定义 `system_message` 从而操纵评论智能体 `critic` 来审查写作智能体 `writer` 的输出，并提供反馈。\n",
    "  \n",
    "我们这里使用的是 `autogen` 里的 `AsistantAgent` 类，`AsistantAgent` 类是我们熟悉的 `ConversableAgent` 类的子类，区别是 `AsistantAgent` 类配置了默认的 `system message` 。"
   ]
  },
  {
   "cell_type": "code",
   "execution_count": 44,
   "metadata": {},
   "outputs": [
    {
     "name": "stdout",
     "output_type": "stream",
     "text": [
      "[autogen.oai.client: 06-15 13:54:41] {129} WARNING - The API key specified is not a valid OpenAI format; it won't work with the OpenAI-hosted model.\n"
     ]
    }
   ],
   "source": [
    "critic_zh = autogen.AssistantAgent(\n",
    "    name=\"评论家\",\n",
    "    is_termination_msg=lambda x: x.get(\"content\", \"\").find(\"TERMINATE\") >= 0,\n",
    "    llm_config=llm_config,\n",
    "    system_message=\"你是一个评论家。你接受作家的作品，并且\"\n",
    "                \"提供建设性的反馈，从而帮助提升内容的质量。\",\n",
    ")"
   ]
  },
  {
   "cell_type": "markdown",
   "metadata": {},
   "source": [
    "现在我们有了两个智能体，我们让他们之间发起对话。"
   ]
  },
  {
   "cell_type": "code",
   "execution_count": 45,
   "metadata": {},
   "outputs": [
    {
     "name": "stdout",
     "output_type": "stream",
     "text": [
      "\u001b[33m评论家\u001b[0m (to 作家):\n",
      "\n",
      "\n",
      "        写一篇关于DeepLearning.AI的简洁但引人入胜的博客文章。\n",
      "        确保博客文章是\n",
      "        100词以内。\n",
      "        \n",
      "\n",
      "--------------------------------------------------------------------------------\n",
      "\u001b[33m作家\u001b[0m (to 评论家):\n",
      "\n",
      "标题：探寻DeepLearning.AI的奥秘\n",
      "\n",
      "在当今数码时代，人工智能是引领创新的主要驱动力之一。而DeepLearning.AI作为人工智能领域的重要一环，在深度学习技术中扮演着关键角色。从神经网络到自然语言处理，DeepLearning.AI让机器具备了人类般的智慧，为各行各业带来了巨大变革。通过专业的在线课程和实践项目，DeepLearning.AI为学习者提供了接触和掌握人工智能技术的独特机会。探索DeepLearning.AI，探寻人工智能的奥秘，引领未来的科技发展。\n",
      "\n",
      "--------------------------------------------------------------------------------\n",
      "\u001b[33m评论家\u001b[0m (to 作家):\n",
      "\n",
      "这篇博客文章开篇引人入胜，很好地探讨了DeepLearning.AI在人工智能领域的重要性和作用。要使文章更加生动，建议您在后续内容中增加一些具体的示例或案例，展示DeepLearning.AI在实际应用中的影响和成就。另外，可以提及一些学习者通过DeepLearning.AI课程取得的成就或成功故事，以吸引更多读者深入了解和学习。最后，可以将文章结尾处留下引人思考的问题或展望，为读者提供更多思考和探索的空间。希望这些建议能对您的博客文章有所帮助，期待看到更多精彩的内容！\n",
      "\n",
      "--------------------------------------------------------------------------------\n",
      "\u001b[33m作家\u001b[0m (to 评论家):\n",
      "\n",
      "标题：探寻DeepLearning.AI的奥秘\n",
      "\n",
      "在当今数码时代，人工智能是引领创新的主要驱动力之一。DeepLearning.AI作为人工智能领域的关键之一，在各行各业发挥着无可比拟的作用。例如，医疗影像识别、智能交通系统和智能语音助手等领域的应用都凭借着DeepLearning.AI技术取得了巨大成功。通过DeepLearning.AI的学习路径，许多学习者在人工智能领域取得了令人瞩目的成就。从此，探索DeepLearning.AI不仅是进步的契机，更是开启未来无限可能的钥匙。让我们一起追寻人工智能的奥秘，探索这个充满精彩未知的领域！\n",
      "\n",
      "--------------------------------------------------------------------------------\n"
     ]
    }
   ],
   "source": [
    "res_zh = critic_zh.initiate_chat(\n",
    "    recipient=writer_zh,\n",
    "    message=task_zh,\n",
    "    max_turns=2,\n",
    "    summary_method=\"last_msg\"\n",
    ")"
   ]
  },
  {
   "cell_type": "markdown",
   "metadata": {},
   "source": [
    "通过对话历史可以看出，作家先给出了第一版的博客文章，然后评论家给了些反馈，最后作家又给了一版博客文章。  \n",
    "  \n",
    "从中我们可以看出，智能体在反思工作并且给出建议，但这还不够好，目前智能体给出的建议有些宽泛。  \n",
    "  \n",
    "有些情况下，我们可能会希望实现更加复杂的反思工作流来作为评论智能体的内心独白。例如，内容是否会在搜索搜索引擎中排名较高，目标读者的引流效果好不好，是否有法律和道德缺陷等。"
   ]
  },
  {
   "cell_type": "markdown",
   "metadata": {},
   "source": [
    "# 五、NestedChat（嵌套聊天）"
   ]
  },
  {
   "cell_type": "markdown",
   "metadata": {},
   "source": [
    "`NestedChat` 作为一个chat，被用作智能体的内心独白 (下图左下角灰色框中整体作为一个 NestedChat )  \n",
    "  \n",
    "  \n",
    "![fig-4-1](./images/fig-4-1.png)"
   ]
  },
  {
   "cell_type": "markdown",
   "metadata": {},
   "source": [
    "接下来，我们来定义这个chat，在博客写作任务中，我们可能需要很多审稿智能体来仔细监察作品的个个方面，所以我们先来创建一个SEO（Search Engine Optimization）智能体，即搜索引擎优化智能体。"
   ]
  },
  {
   "cell_type": "code",
   "execution_count": 53,
   "metadata": {},
   "outputs": [
    {
     "name": "stdout",
     "output_type": "stream",
     "text": [
      "[autogen.oai.client: 06-15 13:56:18] {129} WARNING - The API key specified is not a valid OpenAI format; it won't work with the OpenAI-hosted model.\n"
     ]
    }
   ],
   "source": [
    "SEO_reviewer_zh = autogen.AssistantAgent(\n",
    "    name=\"SEO审稿人\",\n",
    "    llm_config=llm_config,\n",
    "    system_message=\"你是一名SEO审稿人，以优化内容以适应搜索引擎的能力而闻名，\"\n",
    "        \"确保内容在搜索引擎中的排名良好，并吸引优质流量。\"\n",
    "        \"确保你的建议简洁（不超过3个要点）、\"\n",
    "        \"具体且直截了当。\"\n",
    "        \"在审查开始时，先陈述你的角色职责。\",\n",
    ")"
   ]
  },
  {
   "cell_type": "markdown",
   "metadata": {},
   "source": [
    "第二个审稿人是法律审稿人，我们需要他确保内容合法。  \n",
    "  \n",
    "最后一个审稿人是道德审稿人，它确保内容道德高尚且没有任何道德风险。"
   ]
  },
  {
   "cell_type": "code",
   "execution_count": 54,
   "metadata": {},
   "outputs": [
    {
     "name": "stdout",
     "output_type": "stream",
     "text": [
      "[autogen.oai.client: 06-15 13:56:19] {129} WARNING - The API key specified is not a valid OpenAI format; it won't work with the OpenAI-hosted model.\n"
     ]
    }
   ],
   "source": [
    "legal_reviewer_zh = autogen.AssistantAgent(\n",
    "    name=\"法律审稿人\",\n",
    "    llm_config=llm_config,\n",
    "    system_message=\"你是一名法律审稿人，负责确保内容符合法律规定并且没有任何潜在法律问题。\"\n",
    "        \"确保你的建议简洁（不超过3个要点），\"\n",
    "        \"具体且直截了当。\"\n",
    "        \"在审查开始时，先陈述你的角色职责。\",\n",
    ")"
   ]
  },
  {
   "cell_type": "code",
   "execution_count": 55,
   "metadata": {},
   "outputs": [
    {
     "name": "stdout",
     "output_type": "stream",
     "text": [
      "[autogen.oai.client: 06-15 13:56:19] {129} WARNING - The API key specified is not a valid OpenAI format; it won't work with the OpenAI-hosted model.\n"
     ]
    }
   ],
   "source": [
    "ethics_reviewer_zh = autogen.AssistantAgent(\n",
    "    name=\"道德审稿人\",\n",
    "    llm_config=llm_config,\n",
    "    system_message=\"你是一名伦理审稿人，负责确保内容在伦理上没有问题并且没有任何潜在伦理问题\"\n",
    "        \"确保你的建议简洁（不超过3个要点），\"\n",
    "        \"具体且直截了当。\"\n",
    "        \"在审查开始时，先陈述你的角色职责。\",\n",
    ")"
   ]
  },
  {
   "cell_type": "markdown",
   "metadata": {},
   "source": [
    "我们还需要一名元审稿人（meta reviewer）来整理所有的评论并且给出最终建议。"
   ]
  },
  {
   "cell_type": "code",
   "execution_count": 56,
   "metadata": {},
   "outputs": [
    {
     "name": "stdout",
     "output_type": "stream",
     "text": [
      "[autogen.oai.client: 06-15 13:56:20] {129} WARNING - The API key specified is not a valid OpenAI format; it won't work with the OpenAI-hosted model.\n"
     ]
    }
   ],
   "source": [
    "meta_reviewer_zh = autogen.AssistantAgent(\n",
    "    name=\"元审稿人\",\n",
    "    llm_config=llm_config,\n",
    "    system_message=\"你是一名元审稿人，你汇总并审查其他审稿人的工作，\"\n",
    "    \"并对内容提供最终建议。\",\n",
    ")"
   ]
  },
  {
   "cell_type": "markdown",
   "metadata": {},
   "source": [
    "# 六、将嵌套对话（Nested Chats）都编排起来解决问题"
   ]
  },
  {
   "cell_type": "markdown",
   "metadata": {},
   "source": [
    "接下来我们来定义对话 ，我们使用上节课学的顺序聊天对话模式（Sequential Chat Conversation Pattern）来建立一系列评论家和审稿人之间的对话。这里的对话顺序是一个评论家分别与内部嵌套的审稿人对话的顺序结构，并非直觉上评论家发送一次消息后，所有审稿人同时作出相应的顺序。  \n",
    "  \n",
    "![fig-4-2](./images/fig-4-2.png)\n",
    "\n",
    "如下所示，我们有一个包含四个对话的列表，每一个都包含一个特定的审稿人作为接收方，之后我们会把这个对话列表注册到评论家智能体中，由它作为默认的对话发起方，所以在对话列表中不需要再额外指定对话发起者 sender 。\n",
    "\n",
    "下面我们具体看对话列表中对话的定义。  \n",
    "  \n",
    "在前三个对话中的每次对话中，接收方需要收到合适的初始消息（我们需要将评论家接收到的作家第一版本的作品作为上图中的 `message` 传给各个审稿人），一个常见做法是从外部对话中获取总结的消息，`reflection_message` 中的 `chat_messages_for_summary` 就是这个目的，函数内部的 `sender` 变量就对应评论家。  \n",
    "  \n",
    "同时，顺序对话范式还会通过“结转”机制（`Carryover`）将上一次聊天的摘要带入下一次聊天的上下文中，即之后对话中 `\"Context:\"` 后跟着的内容，且结转的内容会不断积累。\n",
    "  \n",
    "每个对话的输出部分我们希望用大模型来做格式化的总结（即以Json格式输出，包括一个审稿人字段和一个评论字段），所以我们设置 `\"reflection_with_llm\"` 与 `\"summary_prompt\"` 来格式化对话输出。"
   ]
  },
  {
   "cell_type": "code",
   "execution_count": 67,
   "metadata": {},
   "outputs": [],
   "source": [
    "def reflection_message(recipient, messages, sender, config):\n",
    "    return f'''审查以下内容。 \n",
    "            \\n\\n {recipient.chat_messages_for_summary(sender)[-1]['content']}'''\n",
    "\n",
    "review_chats_zh = [\n",
    "    {\n",
    "     \"recipient\": SEO_reviewer_zh, \n",
    "     \"message\": reflection_message, \n",
    "     \"summary_method\": \"reflection_with_llm\",\n",
    "     \"summary_args\": {\"summary_prompt\" : \n",
    "        \"仅以JSON对象的形式返回审查结果：\"\n",
    "        \"{'审稿人': '', '评论': ''}。这里审稿人应该是你的角色\",},\n",
    "     \"max_turns\": 1},\n",
    "    {\n",
    "    \"recipient\": legal_reviewer_zh, \n",
    "    \"message\": reflection_message, \n",
    "     \"summary_method\": \"reflection_with_llm\",\n",
    "     \"summary_args\": {\"summary_prompt\" : \n",
    "        \"仅以JSON对象的形式返回审查结果：\"\n",
    "        \"{'审稿人': '', '评论': ''}。这里审稿人应该是你的角色\",},\n",
    "     \"max_turns\": 1},\n",
    "    {\"recipient\": ethics_reviewer_zh, \n",
    "     \"message\": reflection_message, \n",
    "     \"summary_method\": \"reflection_with_llm\",\n",
    "     \"summary_args\": {\"summary_prompt\" : \n",
    "        \"仅以JSON对象的形式返回审查结果：\"\n",
    "        \"{'审稿人': '', '评论': ''}。这里审稿人应该是你的角色\"},\n",
    "     \"max_turns\": 1},\n",
    "     {\"recipient\": meta_reviewer_zh, \n",
    "      \"message\": \"汇总所有审稿人的反馈，直接输出给写作的最终建议。\", \n",
    "     \"max_turns\": 1},\n",
    "]"
   ]
  },
  {
   "cell_type": "markdown",
   "metadata": {},
   "source": [
    "终于，我们可以把上面定义的审稿对话定义为评论家的嵌套对话了，注意，我们将触发器 `trigger` 设置为作家，这意味着评论家每次接收到作家的消息，都会自动将消息路由到嵌套对话中去进行仔细的反思。"
   ]
  },
  {
   "cell_type": "code",
   "execution_count": 68,
   "metadata": {},
   "outputs": [],
   "source": [
    "critic_zh.register_nested_chats(\n",
    "    review_chats_zh,\n",
    "    trigger=writer_zh,\n",
    ")"
   ]
  },
  {
   "cell_type": "markdown",
   "metadata": {},
   "source": [
    "配置到后，我们现在可以发起评论家和作家之间的对话了，和最开始的流程类似，不同之处就是我们在评论家中定义了嵌套聊天来做仔细的反思。"
   ]
  },
  {
   "cell_type": "code",
   "execution_count": 69,
   "metadata": {},
   "outputs": [
    {
     "name": "stdout",
     "output_type": "stream",
     "text": [
      "\u001b[33m评论家\u001b[0m (to 作家):\n",
      "\n",
      "\n",
      "        写一篇关于DeepLearning.AI的简洁但引人入胜的博客文章。\n",
      "        确保博客文章是\n",
      "        100词以内。\n",
      "        \n",
      "\n",
      "--------------------------------------------------------------------------------\n",
      "\u001b[33m作家\u001b[0m (to 评论家):\n",
      "\n",
      "标题：探寻DeepLearning.AI的奥秘\n",
      "\n",
      "在当今数码时代，人工智能是引领创新的主要驱动力之一。而DeepLearning.AI作为人工智能领域的重要一环，在深度学习技术中扮演着关键角色。从神经网络到自然语言处理，DeepLearning.AI让机器具备了人类般的智慧，为各行各业带来了巨大变革。通过专业的在线课程和实践项目，DeepLearning.AI为学习者提供了接触和掌握人工智能技术的独特机会。探索DeepLearning.AI，探寻人工智能的奥秘，引领未来的科技发展。\n",
      "\n",
      "--------------------------------------------------------------------------------\n",
      "\u001b[34m\n",
      "********************************************************************************\u001b[0m\n",
      "\u001b[34mStarting a new chat....\u001b[0m\n",
      "\u001b[34m\n",
      "********************************************************************************\u001b[0m\n",
      "\u001b[33m评论家\u001b[0m (to SEO审稿人):\n",
      "\n",
      "审查以下内容。 \n",
      "            \n",
      "\n",
      " 标题：探寻DeepLearning.AI的奥秘\n",
      "\n",
      "在当今数码时代，人工智能是引领创新的主要驱动力之一。而DeepLearning.AI作为人工智能领域的重要一环，在深度学习技术中扮演着关键角色。从神经网络到自然语言处理，DeepLearning.AI让机器具备了人类般的智慧，为各行各业带来了巨大变革。通过专业的在线课程和实践项目，DeepLearning.AI为学习者提供了接触和掌握人工智能技术的独特机会。探索DeepLearning.AI，探寻人工智能的奥秘，引领未来的科技发展。\n",
      "\n",
      "--------------------------------------------------------------------------------\n",
      "\u001b[33mSEO审稿人\u001b[0m (to 评论家):\n",
      "\n",
      "作为SEO审稿人，我的职责是优化内容以提升搜索引擎排名和吸引流量。请参考以下建议：\n",
      "\n",
      "1. **优化标题：**\n",
      "   - 建议将标题调整为更具吸引力和搜索性的版本，例如：“探索DeepLearning.AI：解密人工智能的未来”。\n",
      "  \n",
      "2. **增加关键词密度：**\n",
      "   - 强化关键词如“DeepLearning.AI”和“人工智能”，增加它们的出现频率，使搜索引擎更容易识别文章主题。\n",
      "\n",
      "3. **丰富内容细节：**\n",
      "   - 添加更多关于DeepLearning.AI课程内容、学习方法和成就的具体信息，以提高页面的内容丰富度和搜索价值。\n",
      "\n",
      "--------------------------------------------------------------------------------\n",
      "\u001b[34m\n",
      "********************************************************************************\u001b[0m\n",
      "\u001b[34mStarting a new chat....\u001b[0m\n",
      "\u001b[34m\n",
      "********************************************************************************\u001b[0m\n",
      "\u001b[33m评论家\u001b[0m (to 法律审稿人):\n",
      "\n",
      "审查以下内容。 \n",
      "            \n",
      "\n",
      " 标题：探寻DeepLearning.AI的奥秘\n",
      "\n",
      "在当今数码时代，人工智能是引领创新的主要驱动力之一。而DeepLearning.AI作为人工智能领域的重要一环，在深度学习技术中扮演着关键角色。从神经网络到自然语言处理，DeepLearning.AI让机器具备了人类般的智慧，为各行各业带来了巨大变革。通过专业的在线课程和实践项目，DeepLearning.AI为学习者提供了接触和掌握人工智能技术的独特机会。探索DeepLearning.AI，探寻人工智能的奥秘，引领未来的科技发展。\n",
      "Context: \n",
      "{'审稿人': 'SEO审稿人', '评论': '建议将标题调整为更具吸引力和搜索性的版本，增加关键词密度，丰富内容细节。'}\n",
      "\n",
      "--------------------------------------------------------------------------------\n",
      "\u001b[33m法律审稿人\u001b[0m (to 评论家):\n",
      "\n",
      "作为法律审稿人，我的建议如下：\n",
      "\n",
      "1. 确保内容涉及到的关于DeepLearning.AI的数据和信息准确无误，避免夸大、误导或不实内容，以避免引发消费者投诉或法律纠纷。\n",
      "\n",
      "2. 在描述人工智能技术的影响和作用时，确保不会夸大其意义或效果，以避免违反虚假广告法或其他欺诈类法规。\n",
      "\n",
      "3. 注意在文章中使用的任何商标、专利或知识产权，避免侵犯他人的知识产权，如有必要，应加入相关授权或使用声明。\n",
      "\n",
      "--------------------------------------------------------------------------------\n",
      "\u001b[34m\n",
      "********************************************************************************\u001b[0m\n",
      "\u001b[34mStarting a new chat....\u001b[0m\n",
      "\u001b[34m\n",
      "********************************************************************************\u001b[0m\n",
      "\u001b[33m评论家\u001b[0m (to 道德审稿人):\n",
      "\n",
      "审查以下内容。 \n",
      "            \n",
      "\n",
      " 标题：探寻DeepLearning.AI的奥秘\n",
      "\n",
      "在当今数码时代，人工智能是引领创新的主要驱动力之一。而DeepLearning.AI作为人工智能领域的重要一环，在深度学习技术中扮演着关键角色。从神经网络到自然语言处理，DeepLearning.AI让机器具备了人类般的智慧，为各行各业带来了巨大变革。通过专业的在线课程和实践项目，DeepLearning.AI为学习者提供了接触和掌握人工智能技术的独特机会。探索DeepLearning.AI，探寻人工智能的奥秘，引领未来的科技发展。\n",
      "Context: \n",
      "{'审稿人': 'SEO审稿人', '评论': '建议将标题调整为更具吸引力和搜索性的版本，增加关键词密度，丰富内容细节。'}\n",
      "{'审稿人': '法律审稿人', '评论': '建议确保内容准确性，避免夸大描写和侵犯知识产权，以规避法律风险。'}\n",
      "\n",
      "--------------------------------------------------------------------------------\n",
      "\u001b[33m道德审稿人\u001b[0m (to 评论家):\n",
      "\n",
      "我是一名伦理审稿人，我的职责是确保内容在伦理上没有问题并且没有任何潜在伦理问题。\n",
      "\n",
      "1. 确保内容准确性：在探讨DeepLearning.AI的奥秘时，确保所有陈述和描述都是准确无误的，避免夸大描写或误导读者。\n",
      "\n",
      "2. 尊重知识产权：在讨论人工智能领域时，确保遵守知识产权法律，不要侵犯任何他人的专利、商标或版权。\n",
      "\n",
      "3. 避免误导读者：在描述DeepLearning.AI的重要性和作用时，避免过度夸大或误导读者，确保内容真实可靠。\n",
      "\n",
      "--------------------------------------------------------------------------------\n",
      "\u001b[34m\n",
      "********************************************************************************\u001b[0m\n",
      "\u001b[34mStarting a new chat....\u001b[0m\n",
      "\u001b[34m\n",
      "********************************************************************************\u001b[0m\n",
      "\u001b[33m评论家\u001b[0m (to 元审稿人):\n",
      "\n",
      "汇总所有审稿人的反馈，直接输出给写作的最终建议。\n",
      "Context: \n",
      "{'审稿人': 'SEO审稿人', '评论': '建议将标题调整为更具吸引力和搜索性的版本，增加关键词密度，丰富内容细节。'}\n",
      "{'审稿人': '法律审稿人', '评论': '建议确保内容准确性，避免夸大描写和侵犯知识产权，以规避法律风险。'}\n",
      "{'审稿人': '伦理审稿人', '评论': '确保内容在伦理上没有问题并且没有任何潜在伦理问题。'}\n",
      "\n",
      "--------------------------------------------------------------------------------\n",
      "\u001b[33m元审稿人\u001b[0m (to 评论家):\n",
      "\n",
      "经过审稿人的反馈汇总：\n",
      "\n",
      "1. SEO审稿人建议将标题调整为更具吸引力和搜索性的版本，增加关键词密度，丰富内容细节。\n",
      "2. 法律审稿人建议确保内容准确性，避免夸大描写和侵犯知识产权，以规避法律风险。\n",
      "3. 伦理审稿人建议确保内容在伦理上没有问题并且没有任何潜在伦理问题。\n",
      "\n",
      "综合来看，建议在调整标题以提升吸引力和搜索性的同时，要确保内容准确性，避免夸大描写和侵犯知识产权，同时对内容进行伦理审查，确保没有任何潜在伦理问题的存在。综合以上审稿人的建议，最终稿件应该是符合SEO要求、法律规定和伦理标准的完整内容。\n",
      "\n",
      "--------------------------------------------------------------------------------\n",
      "\u001b[33m评论家\u001b[0m (to 作家):\n",
      "\n",
      "经过审稿人的反馈汇总：\n",
      "\n",
      "1. SEO审稿人建议将标题调整为更具吸引力和搜索性的版本，增加关键词密度，丰富内容细节。\n",
      "2. 法律审稿人建议确保内容准确性，避免夸大描写和侵犯知识产权，以规避法律风险。\n",
      "3. 伦理审稿人建议确保内容在伦理上没有问题并且没有任何潜在伦理问题。\n",
      "\n",
      "综合来看，建议在调整标题以提升吸引力和搜索性的同时，要确保内容准确性，避免夸大描写和侵犯知识产权，同时对内容进行伦理审查，确保没有任何潜在伦理问题的存在。综合以上审稿人的建议，最终稿件应该是符合SEO要求、法律规定和伦理标准的完整内容。\n",
      "\n",
      "--------------------------------------------------------------------------------\n",
      "\u001b[33m作家\u001b[0m (to 评论家):\n",
      "\n",
      "标题：揭秘DeepLearning.AI：探寻人工智能未来之路\n",
      "\n",
      "在当代数码浪潮中，人工智能扮演着重要角色，而DeepLearning.AI则成为引领创新的中流砥柱。从神经网络到自然语言处理，它赋予机器以人类般智慧，推动各行业变革。通过专业课程和实践项目，DeepLearning.AI为学习者开启探寻人工智能奥秘之旅。探索其无限潜力，引领科技发展新纪元。\n",
      "\n",
      "**修改后的文章符合审稿人的反馈，旨在提升标题内容质量和避免潜在问题。**\n",
      "\n",
      "--------------------------------------------------------------------------------\n"
     ]
    }
   ],
   "source": [
    "res = critic_zh.initiate_chat(\n",
    "    recipient=writer_zh,\n",
    "    message=task_zh,\n",
    "    max_turns=2,\n",
    "    summary_method=\"last_msg\"\n",
    ")"
   ]
  },
  {
   "cell_type": "markdown",
   "metadata": {},
   "source": [
    "通过上方的具体聊天记录可见：  \n",
    "  \n",
    "- 第一步是作家生成文章，然后评论家没有直接给出反馈，而是将消息路由到了嵌套对话中。  \n",
    "  \n",
    "- 然后是评论家和SEO审稿人的对话，SEO检查内容后，给出关于优化搜索引擎排名相关的建议，比如优化标题；\n",
    "\n",
    "- 接下来是法律审稿人，检查法律风险并给出建议，比如不侵犯知识产权；之后是道德审稿人，给出建议如确保内容准确不夸大。  \n",
    "  \n",
    "- 最后是元审稿人，负责总结所有建议，并且通过评论家给到作家。  \n",
    "    \n",
    "- 作家根据意见修改，得到新一版的作品。\n",
    "  \n",
    "我们发现在嵌套对话中，之前的聊天信息作为结转（`carryover`）会在 `Content` 中在每次对话中给到接收方。"
   ]
  },
  {
   "cell_type": "markdown",
   "metadata": {},
   "source": [
    "# 七、获得概述"
   ]
  },
  {
   "cell_type": "markdown",
   "metadata": {},
   "source": [
    "进一步，我们调用结果的摘要属性 `suammary` 来检查结果，可见，它返回了最终修改后的博客文章。"
   ]
  },
  {
   "cell_type": "code",
   "execution_count": 66,
   "metadata": {},
   "outputs": [
    {
     "name": "stdout",
     "output_type": "stream",
     "text": [
      "标题：探索DeepLearning.AI：引领人工智能的革新之路\n",
      "\n",
      "在当今数码时代，DeepLearning.AI作为人工智能领域的重要组成部分正引领着技术革新的潮流。融合神经网络、自然语言处理等技术，深度学习赋予机器以智能，改变着各行各业的运作方式。通过专业的在线课程和实践项目，DeepLearning.AI为学习者展开了人工智能的奥秘之旅，培养着未来的科技领袖。探索DeepLearning.AI，了解技术背后的原理与应用，助力科技迈向更辉煌的未来。\n"
     ]
    }
   ],
   "source": [
    "print(res.summary)"
   ]
  },
  {
   "cell_type": "markdown",
   "metadata": {},
   "source": [
    "我们可以继续尝试不同的任务，比如写你感兴趣主题的文章。  \n",
    "  \n",
    "\n",
    "  \n",
    "总结： 这节课中我们学习了如何利用嵌套聊天实现反思设计范式，下节课中，我们将进一步学习如何用嵌套聊天来提升智能体设计范式。"
   ]
  }
 ],
 "metadata": {
  "kernelspec": {
   "display_name": "autogen",
   "language": "python",
   "name": "python3"
  },
  "language_info": {
   "codemirror_mode": {
    "name": "ipython",
    "version": 3
   },
   "file_extension": ".py",
   "mimetype": "text/x-python",
   "name": "python",
   "nbconvert_exporter": "python",
   "pygments_lexer": "ipython3",
   "version": "3.10.14"
  }
 },
 "nbformat": 4,
 "nbformat_minor": 2
}
