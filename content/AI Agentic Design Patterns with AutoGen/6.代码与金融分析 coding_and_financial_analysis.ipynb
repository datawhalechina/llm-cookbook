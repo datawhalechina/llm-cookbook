{
 "cells": [
  {
   "cell_type": "markdown",
   "id": "eacbb70c",
   "metadata": {},
   "source": [
    "# 第六章 代码与金融分析\n",
    "\n",
    "在这节课程我们将构建两个Agent，让他们合作解决手头的任务同时请求你的反馈。第一个Agent将使用llm生成代码，第二个Agent则负责执行代码。\n",
    "\n",
    "<center>\n",
    "<img src=\"images/writer_and_executor.png\" width=\"600\">\n",
    "</center>"
   ]
  },
  {
   "cell_type": "markdown",
   "id": "babbc472",
   "metadata": {},
   "source": [
    "## 一、设置配置\n",
    "本节我们使用`gpt-4-turbo`创建Agent。"
   ]
  },
  {
   "cell_type": "code",
   "execution_count": 1,
   "id": "b5613ba9-d387-4b7d-9670-ec2b6e4353be",
   "metadata": {
    "height": 30
   },
   "outputs": [],
   "source": [
    "llm_config={\"model\": \"gpt-4-turbo\"}"
   ]
  },
  {
   "cell_type": "markdown",
   "id": "e4e8fd85",
   "metadata": {},
   "source": [
    "## 二、创建代码执行器\n",
    "\n",
    "我们通过引入`autogen.coding`的`LocalCommandLineCodeExecutor`执行llm生成的代码。"
   ]
  },
  {
   "cell_type": "code",
   "execution_count": 2,
   "id": "fb90a672-4318-47de-a061-384e68dd75c9",
   "metadata": {
    "height": 30
   },
   "outputs": [],
   "source": [
    "from autogen.coding import LocalCommandLineCodeExecutor # 该类通过命令行执行代码"
   ]
  },
  {
   "cell_type": "markdown",
   "id": "0a210ea3",
   "metadata": {},
   "source": [
    "我们通过输入`timeout`与`work_dir`等配置信息来实例化代码执行器，其中`timeout`为等待代码执行的时间默认为60秒，`work_dir`为代码执行的目录，可以在该目录下查看代码与代码执行的中间结果。"
   ]
  },
  {
   "cell_type": "code",
   "execution_count": 3,
   "id": "7e2d59cd",
   "metadata": {},
   "outputs": [],
   "source": [
    "executor = LocalCommandLineCodeExecutor(\n",
    "    timeout=60, # 设置执行代码的最长时间为60秒\n",
    "    work_dir=\"coding\", # 将llm生成的代码保存到coding文件夹\n",
    ")"
   ]
  },
  {
   "cell_type": "markdown",
   "id": "3b62a1a0",
   "metadata": {},
   "source": [
    "## 三、创建Agent"
   ]
  },
  {
   "cell_type": "markdown",
   "id": "b1c895cb",
   "metadata": {},
   "source": [
    "我们引入`autogen`中的`ConversableAgent`与`AssistantAgent`，其中`ConversableAgent`负责执行代码并返回代码执行结果，因此并不需要配置`llm_config`；`AssistantAgent`负责撰写代码，因为`AssistantAgent` 是 `ConversableAgent` 的子类，相比起`ConversableAgent`，`AssistantAgent`的系统消息更适合让Agent通过撰写代码的方式完成任务。"
   ]
  },
  {
   "cell_type": "code",
   "execution_count": 4,
   "id": "e6d9b3d6-9915-4fea-a853-512dfb77c4a5",
   "metadata": {
    "height": 30
   },
   "outputs": [],
   "source": [
    "from autogen import ConversableAgent, AssistantAgent"
   ]
  },
  {
   "cell_type": "markdown",
   "id": "b741b947",
   "metadata": {},
   "source": [
    "### 3.1 代码执行Agent\n",
    "创建一个负责执行代码的Agent，该Agent基于刚才创建的代码执行器，并不使用大模型，因此设置`llm_config`为`False`；`human_input_mode`人类输入模式设置为`ALWAYS`，因此Agent在每次执行代码前都需要人工确认；通过设置`default_auto_reply`默认自动回复为`Please continue. If everything is done, reply 'TERMINATE'.`来让Agent在检测不到代码时对代码编写Agent发送我们设置的回复。"
   ]
  },
  {
   "cell_type": "code",
   "execution_count": 5,
   "id": "57d286e5-b7b7-405a-b1d7-212c0cc84497",
   "metadata": {
    "height": 149
   },
   "outputs": [],
   "source": [
    "code_executor_agent = ConversableAgent(\n",
    "    name=\"code_executor_agent\",\n",
    "    llm_config=False,\n",
    "    code_execution_config={\"executor\": executor},\n",
    "    human_input_mode=\"ALWAYS\",\n",
    "    default_auto_reply=\n",
    "    \"请继续。如果做完了所有事情，请返回'TERMINATE'。\",\n",
    ")"
   ]
  },
  {
   "cell_type": "markdown",
   "id": "c1eb1094",
   "metadata": {},
   "source": [
    "### 3.2 代码编写Agent\n",
    "创建一个编写代码的Agent，该Agent接入我们之前设置的`gpt-4-turbo`，因为它只负责编写代码所以我们将它的`code_execution_config`代码执行器配置设置为`False`，将`human_input_mode`人类输入模式设置为`NEVER`来让它运行时候不需要人类输入。\n"
   ]
  },
  {
   "cell_type": "code",
   "execution_count": 6,
   "id": "99c38c33-d335-48cd-96eb-cafe9ac70142",
   "metadata": {
    "height": 115
   },
   "outputs": [
    {
     "name": "stdout",
     "output_type": "stream",
     "text": [
      "[autogen.oai.client: 06-02 23:32:21] {129} WARNING - The API key specified is not a valid OpenAI format; it won't work with the OpenAI-hosted model.\n"
     ]
    }
   ],
   "source": [
    "code_writer_agent = AssistantAgent(\n",
    "    name=\"code_writer_agent\",\n",
    "    llm_config=llm_config,\n",
    "    code_execution_config=False,\n",
    "    human_input_mode=\"NEVER\",\n",
    ")"
   ]
  },
  {
   "cell_type": "markdown",
   "id": "22c0aa43",
   "metadata": {},
   "source": [
    "如果你对代码编写Agent好奇，我们可以打印它的系统消息来查看它最开始接受的系统消息。"
   ]
  },
  {
   "cell_type": "code",
   "execution_count": 7,
   "id": "0fb1a62f-8dd2-4636-9103-b26ea27a29bd",
   "metadata": {
    "height": 30
   },
   "outputs": [],
   "source": [
    "code_writer_agent_system_message = code_writer_agent.system_message"
   ]
  },
  {
   "cell_type": "code",
   "execution_count": 8,
   "id": "7c8e9a04-55fb-4124-a9d0-3431274476d2",
   "metadata": {
    "height": 30
   },
   "outputs": [
    {
     "name": "stdout",
     "output_type": "stream",
     "text": [
      "You are a helpful AI assistant.\n",
      "Solve tasks using your coding and language skills.\n",
      "In the following cases, suggest python code (in a python coding block) or shell script (in a sh coding block) for the user to execute.\n",
      "    1. When you need to collect info, use the code to output the info you need, for example, browse or search the web, download/read a file, print the content of a webpage or a file, get the current date/time, check the operating system. After sufficient info is printed and the task is ready to be solved based on your language skill, you can solve the task by yourself.\n",
      "    2. When you need to perform some task with code, use the code to perform the task and output the result. Finish the task smartly.\n",
      "Solve the task step by step if you need to. If a plan is not provided, explain your plan first. Be clear which step uses code, and which step uses your language skill.\n",
      "When using code, you must indicate the script type in the code block. The user cannot provide any other feedback or perform any other action beyond executing the code you suggest. The user can't modify your code. So do not suggest incomplete code which requires users to modify. Don't use a code block if it's not intended to be executed by the user.\n",
      "If you want the user to save the code in a file before executing it, put # filename: <filename> inside the code block as the first line. Don't include multiple code blocks in one response. Do not ask users to copy and paste the result. Instead, use 'print' function for the output when relevant. Check the execution result returned by the user.\n",
      "If the result indicates there is an error, fix the error and output the code again. Suggest the full code instead of partial code or code changes. If the error can't be fixed or if the task is not solved even after the code is executed successfully, analyze the problem, revisit your assumption, collect additional info you need, and think of a different approach to try.\n",
      "When you find an answer, verify the answer carefully. Include verifiable evidence in your response if possible.\n",
      "Reply \"TERMINATE\" in the end when everything is done.\n",
      "    \n"
     ]
    }
   ],
   "source": [
    "print(code_writer_agent_system_message)"
   ]
  },
  {
   "cell_type": "markdown",
   "id": "f487b75a",
   "metadata": {},
   "source": [
    "## 四、执行任务\n",
    "\n",
    "让两个Agent合作完成股票分析。我们在`mseeage`中添加了日期的描述，防止llm撰写的代码获取非工作日时的股票信息。"
   ]
  },
  {
   "cell_type": "code",
   "execution_count": 9,
   "id": "9cce0ba4-9fea-4d36-b4a0-a1e51fcd09a6",
   "metadata": {
    "height": 132
   },
   "outputs": [],
   "source": [
    "import datetime\n",
    "\n",
    "today = datetime.datetime.now().date()\n",
    "weekday = datetime.date.today().weekday()\n",
    "message = f\"今天是 {today}, 周{weekday + 1}. \"\\\n",
    "\"创建一个图表，显示NVDA和TLSA到今天的股票收益。请注意，股票不会在周末交易。\"\\\n",
    "\"确保代码在markdown代码块中并保存图片\"\\\n",
    "\"到文件 ytd_stock_gains.png 中。\"\"\""
   ]
  },
  {
   "cell_type": "markdown",
   "id": "b6090629",
   "metadata": {},
   "source": [
    "对话由代码执行者发起，它通过向`initiate_chat`中设定的代码撰写者发送`message`来开启对话。"
   ]
  },
  {
   "cell_type": "code",
   "execution_count": 10,
   "id": "2bf5be6f",
   "metadata": {},
   "outputs": [
    {
     "name": "stdout",
     "output_type": "stream",
     "text": [
      "\u001b[33mcode_executor_agent\u001b[0m (to code_writer_agent):\n",
      "\n",
      "今天是 2024-06-02, 周6. 创建一个图表，显示NVDA和TLSA到今天的股票收益。请注意，股票不会在周末交易。确保代码在markdown代码块中并保存图片到文件 ytd_stock_gains.png 中。\n",
      "\n",
      "--------------------------------------------------------------------------------\n",
      "\u001b[33mcode_writer_agent\u001b[0m (to code_executor_agent):\n",
      "\n",
      "首先，我们需要获取NVIDIA和Tesla的股票数据。在获取数据之前，我们需要计划如何处理数据并将结果保存为图表。这里是我们将要执行的步骤：\n",
      "\n",
      "1. 设置Python环境并安装所需的库。\n",
      "2. 获取NVIDIA和Tesla自年初至2024-05-31的股票数据，因为股票市场在周末不交易。\n",
      "3. 使用收盘价格数据计算从年初到最新的收益。\n",
      "4. 绘制股票收益图，并保存为PNG文件。\n",
      "\n",
      "现在，让我们先确保您的Python环境已经安装了需要用到的库。如果还未安装，我会提供安装指令。复制以下代码到Python环境中执行，以检查并安装缺失的库。\n",
      "\n",
      "```python\n",
      "# filename: check_and_install_libraries.py\n",
      "import subprocess\n",
      "import pkg_resources\n",
      "\n",
      "required = {'yfinance', 'matplotlib', 'pandas'}\n",
      "installed = {pkg.key for pkg in pkg_resources.working_set}\n",
      "missing = required - installed\n",
      "\n",
      "if missing:\n",
      "    python = sys.executable\n",
      "    subprocess.check_call([python, '-m', 'pip', 'install', *missing], stdout=subprocess.DEVNULL)\n",
      "\n",
      "import yfinance as yf\n",
      "import matplotlib.pyplot as plt\n",
      "import pandas as pd\n",
      "\n",
      "print(\"所有必要的库都已安装并导入。\")\n",
      "```\n",
      "\n",
      "执行这段代码，确保所有库已经准备完备，然后回来继续下一个步骤。\n",
      "\n",
      "--------------------------------------------------------------------------------\n",
      "\u001b[31m\n",
      ">>>>>>>> NO HUMAN INPUT RECEIVED.\u001b[0m\n",
      "\u001b[31m\n",
      ">>>>>>>> USING AUTO REPLY...\u001b[0m\n",
      "\u001b[31m\n",
      ">>>>>>>> EXECUTING CODE BLOCK (inferred language is python)...\u001b[0m\n",
      "\u001b[33mcode_executor_agent\u001b[0m (to code_writer_agent):\n",
      "\n",
      "exitcode: 0 (execution succeeded)\n",
      "Code output: /Users/lta/Desktop/autogen_tutorial/coding/check_and_install_libraries.py:3: DeprecationWarning: pkg_resources is deprecated as an API. See https://setuptools.pypa.io/en/latest/pkg_resources.html\n",
      "  import pkg_resources\n",
      "所有必要的库都已安装并导入。\n",
      "\n",
      "\n",
      "--------------------------------------------------------------------------------\n",
      "\u001b[33mcode_writer_agent\u001b[0m (to code_executor_agent):\n",
      "\n",
      "既然所有必要的库都已安装，我们现在可以继续获取NVIDIA (NVDA) 和 Tesla (TSLA) 的股票数据，并且计算从2024年初到5月31日的收益率。然后，我们会使用这些数据绘制股票收益图表。\n",
      "\n",
      "接下来是下载股票数据的代码。我们将下载两只股票的收盘数据，计算其从2024年1月1日到5月31日的收益，并制作图表。请将以下代码保存到文件并执行。\n",
      "\n",
      "```python\n",
      "# filename: plot_stock_gains.py\n",
      "import yfinance as yf\n",
      "import matplotlib.pyplot as plt\n",
      "import pandas as pd\n",
      "\n",
      "# 设置起始日期和结束日期\n",
      "start_date = '2024-01-01'\n",
      "end_date = '2024-05-31'\n",
      "\n",
      "# 下载股票数据\n",
      "nvda = yf.download('NVDA', start=start_date, end=end_date)\n",
      "tsla = yf.download('TSLA', start=start_date, end=end_date)\n",
      "\n",
      "# 计算收益率: (Today's Close - Year Start Close) / Year Start Close\n",
      "nvda_returns = (nvda['Close'] / nvda['Close'][0] - 1) * 100\n",
      "tsla_returns = (tsla['Close'] / tsla['Close'][0] - 1) * 100\n",
      "\n",
      "# 创建图表\n",
      "plt.figure(figsize=(14, 7))\n",
      "plt.plot(nvda_returns, label='NVIDIA (NVDA)')\n",
      "plt.plot(tsla_returns, label='Tesla (TSLA)')\n",
      "plt.title('Stock Gains from 2024-01-01 to 2024-05-31')\n",
      "plt.xlabel('Date')\n",
      "plt.ylabel('Gain (%)')\n",
      "plt.legend()\n",
      "plt.grid(True)\n",
      "\n",
      "# 保存图表为PNG文件\n",
      "plt.savefig('ytd_stock_gains.png')\n",
      "plt.show()\n",
      "```\n",
      "\n",
      "这段代码将下载所需要的股票数据，计算每日的收益率，然后绘制出一个图表，并保存为PNG文件。请运行这段代码并查看生成的图表。\n",
      "\n",
      "--------------------------------------------------------------------------------\n",
      "\u001b[31m\n",
      ">>>>>>>> NO HUMAN INPUT RECEIVED.\u001b[0m\n",
      "\u001b[31m\n",
      ">>>>>>>> USING AUTO REPLY...\u001b[0m\n",
      "\u001b[31m\n",
      ">>>>>>>> EXECUTING CODE BLOCK (inferred language is python)...\u001b[0m\n",
      "\u001b[33mcode_executor_agent\u001b[0m (to code_writer_agent):\n",
      "\n",
      "exitcode: 0 (execution succeeded)\n",
      "Code output: \n",
      "[*********************100%%**********************]  1 of 1 completed\n",
      "\n",
      "[*********************100%%**********************]  1 of 1 completed\n",
      "/Users/lta/Desktop/autogen_tutorial/coding/plot_stock_gains.py:15: FutureWarning: Series.__getitem__ treating keys as positions is deprecated. In a future version, integer keys will always be treated as labels (consistent with DataFrame behavior). To access a value by position, use `ser.iloc[pos]`\n",
      "  nvda_returns = (nvda['Close'] / nvda['Close'][0] - 1) * 100\n",
      "/Users/lta/Desktop/autogen_tutorial/coding/plot_stock_gains.py:16: FutureWarning: Series.__getitem__ treating keys as positions is deprecated. In a future version, integer keys will always be treated as labels (consistent with DataFrame behavior). To access a value by position, use `ser.iloc[pos]`\n",
      "  tsla_returns = (tsla['Close'] / tsla['Close'][0] - 1) * 100\n",
      "Figure(1400x700)\n",
      "\n",
      "\n",
      "--------------------------------------------------------------------------------\n",
      "\u001b[33mcode_writer_agent\u001b[0m (to code_executor_agent):\n",
      "\n",
      "代码已成功执行，并生成了图表，尽管存在一些未来警告关于将整数索引作为位置索引使用的问题。这些警告可以在未来的代码更新中考虑调整，但目前不影响您的使用结果。\n",
      "\n",
      "生成的图表已保存为 'ytd_stock_gains.png' 文件。现在您应当能够在指定的文件路径中找到此图表文件，它展示了从2024年1月1日到5月31日，NVIDIA和Tesla股票的收益率变化。\n",
      "\n",
      "如果有其他需要帮助的地方，请告诉我！否则，任务已经完成。\n",
      "\n",
      "TERMINATE\n",
      "\n",
      "--------------------------------------------------------------------------------\n"
     ]
    }
   ],
   "source": [
    "chat_result = code_executor_agent.initiate_chat(\n",
    "    code_writer_agent, # code_executor_agent的交流对象\n",
    "    message=message, # 通过message发起对话\n",
    ")"
   ]
  },
  {
   "cell_type": "markdown",
   "id": "77fc5f1b",
   "metadata": {},
   "source": [
    "**注意**: 你的运行结果可能与notebook中的不一样，并且在过程中有可能产生带有错误的代码。不过，它们最终会提供正确的代码。"
   ]
  },
  {
   "cell_type": "markdown",
   "id": "9b0cbbdd",
   "metadata": {},
   "source": [
    "## 五、显示图像\n",
    "现在让我们导入图像并将它显示。\n",
    "**注意**: \n",
    "* 你的绘图可能与上次运行结果显示的不同，因为LLM的自由式代码生成可以选择不同的绘图类型，例如条形图。\n",
    "* 你可以重新运行上一个单元格并检查生成的代码。如果它生成的是条形图，请记住，你可以直接指定你喜欢的图形类型，而不是条形图。"
   ]
  },
  {
   "cell_type": "code",
   "execution_count": 11,
   "id": "26804313-566f-42fb-9243-4e0c147f770b",
   "metadata": {
    "height": 81
   },
   "outputs": [
    {
     "data": {
      "image/png": "[encoded data removed]",
      "text/plain": [
       "<IPython.core.display.Image object>"
      ]
     },
     "execution_count": 11,
     "metadata": {},
     "output_type": "execute_result"
    }
   ],
   "source": [
    "import os\n",
    "from IPython.display import Image\n",
    "\n",
    "Image(os.path.join(\"coding\", \"ytd_stock_gains.png\"))"
   ]
  },
  {
   "cell_type": "markdown",
   "id": "ccf49d7e",
   "metadata": {},
   "source": [
    "**注意**: 代理将自动将代码保存在.py文件中，并将绘图保存在.png文件中。要访问和检查代理生成的文件，可以打开`coding`文件夹以找到所有生成的文件。"
   ]
  },
  {
   "cell_type": "markdown",
   "id": "5aded8dc",
   "metadata": {},
   "source": [
    "## 六、用户自定义函数\n",
    "\n",
    "如果你想更多地控制如何完成这个任务，你可以为这两个任务定义函数，并让Agent在代码中调用这些函数，而不是要求Agent每次都生成下载股票数据和绘制图表的代码。"
   ]
  },
  {
   "cell_type": "code",
   "execution_count": 12,
   "id": "bca089a7-d85a-40ad-b33d-6a5318076c6e",
   "metadata": {
    "height": 387
   },
   "outputs": [],
   "source": [
    "def get_stock_prices(stock_symbols, start_date, end_date):\n",
    "    \"\"\"获取给定股票符号在开始和结束日期之间的股票价格\n",
    "\n",
    "    Args:\n",
    "        stock_symbols (str or list): 用来获取价格的股票符号\n",
    "        start_date (str): 起始日期的格式为'YYYY-MM-DD'\n",
    "        end_date (str): 结束日期，格式为'YYYY-MM-DD'.\n",
    "    \n",
    "    Returns:\n",
    "        pandas.DataFrame: 给定股票符号的股票价格按日期索引，每个股票符号一列\n",
    "    \"\"\"\n",
    "    import yfinance    #导入yfinance\n",
    "\n",
    "    stock_data = yfinance.download(         #下载数据 \n",
    "        stock_symbols, start=start_date, end=end_date\n",
    "    )\n",
    "    return stock_data.get(\"Close\")"
   ]
  },
  {
   "cell_type": "code",
   "execution_count": 13,
   "id": "5dff50a6-39ae-46a4-9b9c-e98c1550472b",
   "metadata": {
    "height": 336
   },
   "outputs": [],
   "source": [
    "def plot_stock_prices(stock_prices, filename):\n",
    "    \"\"\"绘制给定股票符号的股票价格\n",
    "\n",
    "    Args:\n",
    "        stock_prices (pandas.DataFrame): 给定股票符号的股票价格\n",
    "    \"\"\"\n",
    "    import matplotlib.pyplot as plt \n",
    "\n",
    "    plt.figure(figsize=(10, 5))\n",
    "    for column in stock_prices.columns:\n",
    "        plt.plot(\n",
    "            stock_prices.index, stock_prices[column], label=column\n",
    "                )\n",
    "    plt.title(\"Stock Prices\")\n",
    "    plt.xlabel(\"Date\")\n",
    "    plt.ylabel(\"Price\")\n",
    "    plt.grid(True)\n",
    "    plt.savefig(filename)"
   ]
  },
  {
   "cell_type": "markdown",
   "id": "63ff7175",
   "metadata": {},
   "source": [
    "### 6.1 使用自定义的函数创建新的代码执行器"
   ]
  },
  {
   "cell_type": "code",
   "execution_count": 14,
   "id": "452d315f-681d-4418-9cd0-653cc8d6a668",
   "metadata": {
    "height": 98
   },
   "outputs": [],
   "source": [
    "executor = LocalCommandLineCodeExecutor(\n",
    "    timeout=60,\n",
    "    work_dir=\"coding\",\n",
    "    functions=[get_stock_prices, plot_stock_prices],# 把刚定义的函数添加到执行器中\n",
    ")"
   ]
  },
  {
   "cell_type": "markdown",
   "id": "a9ca7648",
   "metadata": {},
   "source": [
    "我们同时也要让code_writer Agent 知道函数的存在，因此把定义的函数添加到prompt中，方便Agent理解。"
   ]
  },
  {
   "cell_type": "code",
   "execution_count": 15,
   "id": "b95b30ad-1e6d-4d88-9a6c-2b0f11b625e4",
   "metadata": {
    "height": 47
   },
   "outputs": [
    {
     "name": "stdout",
     "output_type": "stream",
     "text": [
      "You are a helpful AI assistant.\n",
      "Solve tasks using your coding and language skills.\n",
      "In the following cases, suggest python code (in a python coding block) or shell script (in a sh coding block) for the user to execute.\n",
      "    1. When you need to collect info, use the code to output the info you need, for example, browse or search the web, download/read a file, print the content of a webpage or a file, get the current date/time, check the operating system. After sufficient info is printed and the task is ready to be solved based on your language skill, you can solve the task by yourself.\n",
      "    2. When you need to perform some task with code, use the code to perform the task and output the result. Finish the task smartly.\n",
      "Solve the task step by step if you need to. If a plan is not provided, explain your plan first. Be clear which step uses code, and which step uses your language skill.\n",
      "When using code, you must indicate the script type in the code block. The user cannot provide any other feedback or perform any other action beyond executing the code you suggest. The user can't modify your code. So do not suggest incomplete code which requires users to modify. Don't use a code block if it's not intended to be executed by the user.\n",
      "If you want the user to save the code in a file before executing it, put # filename: <filename> inside the code block as the first line. Don't include multiple code blocks in one response. Do not ask users to copy and paste the result. Instead, use 'print' function for the output when relevant. Check the execution result returned by the user.\n",
      "If the result indicates there is an error, fix the error and output the code again. Suggest the full code instead of partial code or code changes. If the error can't be fixed or if the task is not solved even after the code is executed successfully, analyze the problem, revisit your assumption, collect additional info you need, and think of a different approach to try.\n",
      "When you find an answer, verify the answer carefully. Include verifiable evidence in your response if possible.\n",
      "Reply \"TERMINATE\" in the end when everything is done.\n",
      "    You have access to the following user defined functions. They can be accessed from the module called `functions` by their function names.\n",
      "\n",
      "For example, if there was a function called `foo` you could import it by writing `from functions import foo`\n",
      "\n",
      "def get_stock_prices(stock_symbols, start_date, end_date):\n",
      "    \"\"\"Get the stock prices for the given stock symbols between\n",
      "        the start and end dates.\n",
      "\n",
      "        Args:\n",
      "            stock_symbols (str or list): The stock symbols to get the\n",
      "            prices for.\n",
      "            start_date (str): The start date in the format \n",
      "            'YYYY-MM-DD'.\n",
      "            end_date (str): The end date in the format 'YYYY-MM-DD'.\n",
      "\n",
      "        Returns:\n",
      "            pandas.DataFrame: The stock prices for the given stock\n",
      "            symbols indexed by date, with one column per stock \n",
      "            symbol.\n",
      "    \"\"\"\n",
      "    ...\n",
      "\n",
      "def plot_stock_prices(stock_prices, filename):\n",
      "    \"\"\"Plot the stock prices for the given stock symbols.\n",
      "\n",
      "        Args:\n",
      "            stock_prices (pandas.DataFrame): The stock prices for the \n",
      "            given stock symbols.\n",
      "    \"\"\"\n",
      "    ...\n"
     ]
    }
   ],
   "source": [
    "code_writer_agent_system_message += executor.format_functions_for_prompt()\n",
    "print(code_writer_agent_system_message)"
   ]
  },
  {
   "cell_type": "markdown",
   "id": "64d3cc77",
   "metadata": {},
   "source": [
    "### 6.2 使用新的系统消息更新代理"
   ]
  },
  {
   "cell_type": "code",
   "execution_count": 16,
   "id": "615c02b0-0175-442e-bed2-52bb35b8945c",
   "metadata": {
    "height": 132
   },
   "outputs": [
    {
     "name": "stdout",
     "output_type": "stream",
     "text": [
      "[autogen.oai.client: 06-02 23:32:53] {129} WARNING - The API key specified is not a valid OpenAI format; it won't work with the OpenAI-hosted model.\n"
     ]
    }
   ],
   "source": [
    "code_writer_agent = ConversableAgent(\n",
    "    name=\"code_writer_agent\",\n",
    "    system_message=code_writer_agent_system_message,    # 传入新的prompt\n",
    "    llm_config=llm_config,\n",
    "    code_execution_config=False,\n",
    "    human_input_mode=\"NEVER\",\n",
    ")"
   ]
  },
  {
   "cell_type": "code",
   "execution_count": 17,
   "id": "a9a725b0-9bb6-47e3-85df-27d9aadc9290",
   "metadata": {
    "height": 149
   },
   "outputs": [],
   "source": [
    "code_executor_agent = ConversableAgent(\n",
    "    name=\"code_executor_agent\",\n",
    "    llm_config=False,\n",
    "    code_execution_config={\"executor\": executor},\n",
    "    human_input_mode=\"ALWAYS\",\n",
    "    default_auto_reply=\n",
    "    \"Please continue. If everything is done, reply 'TERMINATE'.\",\n",
    ")"
   ]
  },
  {
   "cell_type": "markdown",
   "id": "e8d7b57c",
   "metadata": {},
   "source": [
    "### 6.3 使用新代理执行任务"
   ]
  },
  {
   "cell_type": "code",
   "execution_count": 18,
   "id": "8895bb51-bcdd-4f63-a49f-858fc25c474f",
   "metadata": {
    "height": 132
   },
   "outputs": [
    {
     "name": "stdout",
     "output_type": "stream",
     "text": [
      "\u001b[33mcode_executor_agent\u001b[0m (to code_writer_agent):\n",
      "\n",
      "今天是2024-06-02, 周6。下载NVDA和TSLA的股票价格并绘制图表确保代码在markdown代码块中，并将图形保存到文件 file stock_prices_YTD_plot.png 中.\n",
      "\n",
      "--------------------------------------------------------------------------------\n",
      "\u001b[33mcode_writer_agent\u001b[0m (to code_executor_agent):\n",
      "\n",
      "为了完成任务，我们将遵循以下步骤：\n",
      "\n",
      "1. 从 `functions` 模块导入 `get_stock_prices` 和 `plot_stock_prices` 函数。\n",
      "2. 定义起止日期来获取年初至今的股票价格数据。起始日期是本年的1月1日，即2024年，结束日期是今天，即2024年6月2日。\n",
      "3. 使用 `get_stock_prices` 函数下载 NVIDIA (NVDA) 和 Tesla (TSLA) 的股票价格数据。\n",
      "4. 使用 `plot_stock_prices` 函数将股票价格绘图，并保存到文件 `stock_prices_YTD_plot.png` 中。\n",
      "\n",
      "先执行以下 Python 代码来获取和绘制股票价格数据：\n",
      "\n",
      "```python\n",
      "# filename: fetch_and_plot_stocks.py\n",
      "from functions import get_stock_prices, plot_stock_repices\n",
      "\n",
      "# 定义股票代码和日期范围\n",
      "stock_symbols = [\"NVDA\", \"TSLA\"]\n",
      "start_date = \"2024-01-01\"\n",
      "end_date = \"2024-06-02\"\n",
      "\n",
      "# 获取股票价格数据\n",
      "stock_prices = get_stock_prices(stock_symbols, start_date, end_date)\n",
      "\n",
      "# 绘制股票价格图表并保存到文件\n",
      "plot_stock_prices(stock_prices, \"stock_prices_YTD_plot.png\")\n",
      "print(\"Stock prices plotted and saved to 'stock_prices_YTD_plot.png'.\")\n",
      "```\n",
      "\n",
      "请保存以上代码到一个文件中，命名为 `fetch_and_plot_stocks.py`，然后运行这个 Python 脚本。这将下载并绘制股票数据，并保存图表到指定文件中。\n",
      "\n",
      "--------------------------------------------------------------------------------\n",
      "\u001b[31m\n",
      ">>>>>>>> NO HUMAN INPUT RECEIVED.\u001b[0m\n",
      "\u001b[31m\n",
      ">>>>>>>> USING AUTO REPLY...\u001b[0m\n",
      "\u001b[31m\n",
      ">>>>>>>> EXECUTING CODE BLOCK (inferred language is python)...\u001b[0m\n",
      "\u001b[33mcode_executor_agent\u001b[0m (to code_writer_agent):\n",
      "\n",
      "exitcode: 1 (execution failed)\n",
      "Code output: Traceback (most recent call last):\n",
      "  File \"/Users/lta/Desktop/autogen_tutorial/coding/fetch_and_plot_stocks.py\", line 2, in <module>\n",
      "    from functions import get_stock_prices, plot_stock_repices\n",
      "ImportError: cannot import name 'plot_stock_repices' from 'functions' (/Users/lta/Desktop/autogen_tutorial/coding/functions.py)\n",
      "\n",
      "\n",
      "--------------------------------------------------------------------------------\n",
      "\u001b[33mcode_writer_agent\u001b[0m (to code_executor_agent):\n",
      "\n",
      "在代码中发生了一个简单的拼写错误：尝试导入名为 `plot_stock_repices` 的函数，而正确的函数名应该是 `plot_stock_prices`。我会更正这个错误并重新给出修正后的代码。\n",
      "\n",
      "请替换为以下正确的代码，然后重新执行：\n",
      "\n",
      "```python\n",
      "# filename: fetch_and_plot_stocks.py\n",
      "from functions import get_stock_prices, plot_stock_prices\n",
      "\n",
      "# 定义股票代码和日期范围\n",
      "stock_symbols = [\"NVDA\", \"TSLA\"]\n",
      "start_date = \"2024-01-01\"\n",
      "end_date = \"2024-06-02\"\n",
      "\n",
      "# 获取股票价格数据\n",
      "stock_prices = get_stock_prices(stock_symbols, start_date, end_date)\n",
      "\n",
      "# 绘制股票价格图表并保存到文件\n",
      "plot_stock_prices(stock_prices, \"stock_prices_YTD_plot.png\")\n",
      "print(\"Stock prices plotted and saved to 'stock_prices_YTD_plot.png'.\")\n",
      "```\n",
      "\n",
      "请确保更新文件 `fetch_and_plot_stocks.py` 并再次执行该脚本。这次导入应该正确无误，并且可成功执行股票价格下载和绘图操作。\n",
      "\n",
      "--------------------------------------------------------------------------------\n",
      "\u001b[31m\n",
      ">>>>>>>> NO HUMAN INPUT RECEIVED.\u001b[0m\n",
      "\u001b[31m\n",
      ">>>>>>>> USING AUTO REPLY...\u001b[0m\n",
      "\u001b[31m\n",
      ">>>>>>>> EXECUTING CODE BLOCK (inferred language is python)...\u001b[0m\n",
      "\u001b[33mcode_executor_agent\u001b[0m (to code_writer_agent):\n",
      "\n",
      "exitcode: 0 (execution succeeded)\n",
      "Code output: \n",
      "[                       0%%                      ]\n",
      "[*********************100%%**********************]  2 of 2 completed\n",
      "Stock prices plotted and saved to 'stock_prices_YTD_plot.png'.\n",
      "\n",
      "\n",
      "--------------------------------------------------------------------------------\n",
      "\u001b[33mcode_writer_agent\u001b[0m (to code_executor_agent):\n",
      "\n",
      "代码执行成功，并且股票价格图表已经成功保存到文件 `stock_prices_YTD_plot.png`。您可以查看这个文件以确认图表是按照要求绘制的。\n",
      "\n",
      "如果您有更多任务或查询，请随时告诉我。\n",
      "\n",
      "TERMINATE\n",
      "\n",
      "--------------------------------------------------------------------------------\n"
     ]
    }
   ],
   "source": [
    "chat_result = code_executor_agent.initiate_chat(\n",
    "    code_writer_agent,\n",
    "    message=f\"今天是{today}, 周{weekday}。\"\n",
    "    \"下载NVDA和TSLA的股票价格并绘制图表\"\n",
    "    \"确保代码在markdown代码块中，并将图形保存到文件\"\n",
    "    \"file stock_prices_YTD_plot.png 中.\",\n",
    ")"
   ]
  },
  {
   "cell_type": "markdown",
   "id": "3c4bb718",
   "metadata": {},
   "source": [
    "### 绘制结果"
   ]
  },
  {
   "cell_type": "code",
   "execution_count": 19,
   "id": "a930c007-dd56-4da6-b542-902312ed27dd",
   "metadata": {
    "height": 30
   },
   "outputs": [
    {
     "data": {
      "image/png": "[encoded data removed]",
      "text/plain": [
       "<IPython.core.display.Image object>"
      ]
     },
     "execution_count": 19,
     "metadata": {},
     "output_type": "execute_result"
    }
   ],
   "source": [
    "Image(os.path.join(\"coding\", \"stock_prices_YTD_plot.png\"))"
   ]
  },
  {
   "cell_type": "markdown",
   "id": "694967f2",
   "metadata": {},
   "source": [
    "总结：我们学习了两种代码生成的方式，一种是基于默认的AssistantAgent，另一种是基于额外提供的用户自定义函数。代码生成能力是一种通用的能力，可以用来执行许多不同的任务，你可以探索更多关于不同种类的代码执行器，或者为不同的语言或执行环境定义自己的代码执行器。"
   ]
  },
  {
   "cell_type": "markdown",
   "id": "c65bac5e",
   "metadata": {},
   "source": [
    "**注意**: 代理将自动将代码保存在.py文件中，并将绘图保存在.png文件中。要访问和检查代理生成的文件，可以打开`coding`文件夹以找到所有生成的文件。"
   ]
  }
 ],
 "metadata": {
  "kernelspec": {
   "display_name": "Python 3 (ipykernel)",
   "language": "python",
   "name": "python3"
  },
  "language_info": {
   "codemirror_mode": {
    "name": "ipython",
    "version": 3
   },
   "file_extension": ".py",
   "mimetype": "text/x-python",
   "name": "python",
   "nbconvert_exporter": "python",
   "pygments_lexer": "ipython3",
   "version": "3.10.14"
  }
 },
 "nbformat": 4,
 "nbformat_minor": 5
}
